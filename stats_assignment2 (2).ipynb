{
 "cells": [
  {
   "cell_type": "markdown",
   "metadata": {},
   "source": [
    "Problem Statement 1:\n",
    "\n",
    "In each of the following situations, state whether it is a correctly stated hypothesis\n",
    "testing problem and why?\n",
    "1. H0: μ = 25, H1: μ ≠ 25\n",
    "2. H0: σ > 10, H1: σ = 10\n",
    "3. H0: x = 50, H1: x ≠ 50\n",
    "4. H0: p = 0.1, H1: p = 0.5\n",
    "5. H0: s = 30, H1: s > 30"
   ]
  },
  {
   "cell_type": "markdown",
   "metadata": {},
   "source": [
    "1. H0: μ = 25, H1: μ ≠ 25   ;correctly stated \n",
    "2. H0: σ > 10, H1: σ = 10   ;incorrectly stated H1 should be H1: σ < 10\n",
    "3. H0: x = 50, H1: x ≠ 50   ;correctly stated\n",
    "4. H0: p = 0.1, H1: p = 0.5 ;incorrectly stated H1 should be H1: p != 0.1\n",
    "5. H0: s = 30, H1: s > 30   ;incorrectly stated H1 should be H1: s != 30"
   ]
  },
  {
   "cell_type": "code",
   "execution_count": 274,
   "metadata": {},
   "outputs": [],
   "source": [
    "import math\n",
    "def z_test(sample_mean,population_mean,standard_error):\n",
    "    return (sample_mean-population_mean)/standard_error\n",
    "def t_test(sample_mean,population_mean,standard_error):\n",
    "    return (sample_mean-population_mean)/standard_error\n",
    "def standard_error(standard_deviation,sample_population):\n",
    "    return (standard_deviation/(np.sqrt(sample_population)))"
   ]
  },
  {
   "cell_type": "markdown",
   "metadata": {},
   "source": [
    "Problem Statement 2:\n",
    "The college bookstore tells prospective students that the average cost of its\n",
    "textbooks is Rs. 52 with a standard deviation of Rs. 4.50. A group of smart statistics\n",
    "students thinks that the average cost is higher. To test the bookstore’s claim against\n",
    "their alternative, the students will select a random sample of size 100. Assume that\n",
    "the mean from their random sample is Rs. 52.80. Perform a hypothesis test at the\n",
    "5% level of significance and state your decision."
   ]
  },
  {
   "cell_type": "markdown",
   "metadata": {},
   "source": [
    "H0: population_mean = 52\n",
    "H1: population_mean !=52\n",
    "We will be performing 2 Z tailed test as the sample is greater than 30"
   ]
  },
  {
   "cell_type": "code",
   "execution_count": 275,
   "metadata": {},
   "outputs": [],
   "source": [
    "population_mean=52\n",
    "standard_deviation=4.50\n",
    "sample_population=100\n",
    "sample_mean=52.80\n",
    "level_of_significance=0.05/2"
   ]
  },
  {
   "cell_type": "code",
   "execution_count": 25,
   "metadata": {},
   "outputs": [],
   "source": [
    "import numpy as np\n",
    "import scipy.stats as st\n",
    "import matplotlib.pyplot as plt\n",
    "import seaborn as sns\n",
    "import pandas as pd"
   ]
  },
  {
   "cell_type": "code",
   "execution_count": 276,
   "metadata": {},
   "outputs": [],
   "source": [
    "standard_error=standard_error(standard_deviation,sample_population)"
   ]
  },
  {
   "cell_type": "code",
   "execution_count": 277,
   "metadata": {},
   "outputs": [
    {
     "data": {
      "text/plain": [
       "0.45"
      ]
     },
     "execution_count": 277,
     "metadata": {},
     "output_type": "execute_result"
    }
   ],
   "source": [
    "standard_error"
   ]
  },
  {
   "cell_type": "code",
   "execution_count": 278,
   "metadata": {},
   "outputs": [],
   "source": [
    "z_test=z_test(sample_mean,population_mean,standard_error)"
   ]
  },
  {
   "cell_type": "code",
   "execution_count": 279,
   "metadata": {
    "scrolled": true
   },
   "outputs": [
    {
     "data": {
      "text/plain": [
       "1.7777777777777715"
      ]
     },
     "execution_count": 279,
     "metadata": {},
     "output_type": "execute_result"
    }
   ],
   "source": [
    "z_test"
   ]
  },
  {
   "cell_type": "code",
   "execution_count": 280,
   "metadata": {},
   "outputs": [
    {
     "name": "stdout",
     "output_type": "stream",
     "text": [
      "0.0754403596268014\n",
      "Null Hypothesis is accepted,  𝜇=52\n"
     ]
    }
   ],
   "source": [
    "p=2*(1-(st.norm.cdf(np.absolute(z_test))))\n",
    "print(p)\n",
    "if p<level_of_significance:\n",
    "    print(\"Null Hypothesis is rejected, 𝜇!=52\")\n",
    "else:\n",
    "    print(\"Null Hypothesis is accepted,  𝜇=52\")"
   ]
  },
  {
   "cell_type": "markdown",
   "metadata": {},
   "source": [
    "Problem Statement 3: A certain chemical pollutant in the Genesee River has been constant for several years with mean μ = 34 ppm (parts per million) and standard deviation σ = 8 ppm. A group of factory representatives whose companies discharge liquids into the river is now claiming that they have lowered the average with improved filtration devices. A group of environmentalists will test to see if this is true at the 1% level of significance. Assume \\ that their sample of size 50 gives a mean of 32.5 ppm. Perform a hypothesis test at the 1% level of significance and state your decision."
   ]
  },
  {
   "cell_type": "code",
   "execution_count": 126,
   "metadata": {},
   "outputs": [],
   "source": [
    "def z_test(sample_mean,population_mean,standard_error):\n",
    "    return (sample_mean-population_mean)/standard_error\n",
    "def t_test(sample_mean,population_mean,standard_error):\n",
    "    return (sample_mean-population_mean)/standard_error\n",
    "def standard_error(standard_deviation,sample_population):\n",
    "    return (standard_deviation/(np.sqrt(sample_population)))"
   ]
  },
  {
   "cell_type": "markdown",
   "metadata": {},
   "source": [
    "H0: population_mean=34\n",
    "H1: population_mean<34"
   ]
  },
  {
   "cell_type": "code",
   "execution_count": 127,
   "metadata": {},
   "outputs": [],
   "source": [
    "population_mean=34\n",
    "standard_deviation=8\n",
    "sample_mean=32.5\n",
    "sample_population=50\n",
    "level_of_significance=0.01"
   ]
  },
  {
   "cell_type": "code",
   "execution_count": 128,
   "metadata": {},
   "outputs": [],
   "source": [
    "standard_error=standard_error(standard_deviation,sample_population)"
   ]
  },
  {
   "cell_type": "code",
   "execution_count": 129,
   "metadata": {},
   "outputs": [],
   "source": [
    "z_test=z_test(sample_mean,population_mean,standard_error)"
   ]
  },
  {
   "cell_type": "code",
   "execution_count": 130,
   "metadata": {
    "scrolled": true
   },
   "outputs": [
    {
     "data": {
      "text/plain": [
       "-1.3258252147247767"
      ]
     },
     "execution_count": 130,
     "metadata": {},
     "output_type": "execute_result"
    }
   ],
   "source": [
    "z_test"
   ]
  },
  {
   "cell_type": "code",
   "execution_count": 133,
   "metadata": {
    "scrolled": true
   },
   "outputs": [
    {
     "name": "stdout",
     "output_type": "stream",
     "text": [
      "Null Hypothesis is accepted,  𝜇=34\n"
     ]
    }
   ],
   "source": [
    "p=(st.norm.cdf((z_test)))\n",
    "if p<level_of_significance:\n",
    "    print(\"Null Hypothesis is rejected, 𝜇<34\")\n",
    "else:\n",
    "    print(\"Null Hypothesis is accepted,  𝜇=34\")"
   ]
  },
  {
   "cell_type": "markdown",
   "metadata": {},
   "source": [
    "Problem Statement 4:\n",
    "Based on population figures and other general information on the U.S. population,\n",
    "suppose it has been estimated that, on average, a family of four in the U.S. spends\n",
    "about $1135 annually on dental expenditures. Suppose further that a regional dental\n",
    "association wants to test to determine if this figure is accurate for their area of\n",
    "country. To test this, 22 families of 4 are randomly selected from the population in\n",
    "that area of the country and a log is kept of the family’s dental expenditure for one\n",
    "year. The resulting data are given below. Assuming, that dental expenditure is\n",
    "normally distributed in the population, use the data and an alpha of 0.5 to test the\n",
    "dental association’s hypothesis.\n",
    "1008, 812, 1117, 1323, 1308, 1415, 831, 1021, 1287, 851, 930, 730, 699,\n",
    "872, 913, 944, 954, 987, 1695, 995, 1003, 994"
   ]
  },
  {
   "cell_type": "code",
   "execution_count": 282,
   "metadata": {},
   "outputs": [],
   "source": [
    "def z_test(sample_mean,population_mean,standard_error):\n",
    "    return (sample_mean-population_mean)/standard_error\n",
    "def t_test(sample_mean,population_mean,standard_error):\n",
    "    return (sample_mean-population_mean)/standard_error\n",
    "def standard_error(standard_deviation,sample_population):\n",
    "    return (standard_deviation/(np.sqrt(sample_population)))"
   ]
  },
  {
   "cell_type": "markdown",
   "metadata": {},
   "source": [
    "HO: MEAN=1135\n",
    "H1: MEAN!=1135\n",
    "since sample size is less we can you T-TEST 2 TAILED"
   ]
  },
  {
   "cell_type": "code",
   "execution_count": 281,
   "metadata": {},
   "outputs": [],
   "source": [
    "array=[1008, 812, 1117, 1323, 1308, 1415, 831, 1021, 1287, 851, 930, 730, 699,872, 913, 944, 954, 987, 1695, 995, 1003, 994]"
   ]
  },
  {
   "cell_type": "code",
   "execution_count": 283,
   "metadata": {},
   "outputs": [],
   "source": [
    "population_mean=1135\n",
    "sample_population=22\n",
    "level_of_significance=0.5/2"
   ]
  },
  {
   "cell_type": "code",
   "execution_count": 284,
   "metadata": {},
   "outputs": [],
   "source": [
    "sample_mean=np.mean(array)"
   ]
  },
  {
   "cell_type": "code",
   "execution_count": 285,
   "metadata": {},
   "outputs": [],
   "source": [
    "import statistics as stats"
   ]
  },
  {
   "cell_type": "code",
   "execution_count": 286,
   "metadata": {},
   "outputs": [],
   "source": [
    "standard_deviation=stats.pstdev(array)"
   ]
  },
  {
   "cell_type": "code",
   "execution_count": 287,
   "metadata": {},
   "outputs": [],
   "source": [
    "standard_error=standard_error(standard_deviation,sample_population)"
   ]
  },
  {
   "cell_type": "code",
   "execution_count": 288,
   "metadata": {},
   "outputs": [],
   "source": [
    "t_test=t_test(sample_mean,population_mean,standard_error)"
   ]
  },
  {
   "cell_type": "code",
   "execution_count": 289,
   "metadata": {
    "scrolled": false
   },
   "outputs": [
    {
     "name": "stdout",
     "output_type": "stream",
     "text": [
      "0.050898290089189224\n",
      "Null Hypothesis is rejected, 𝜇!=1135\n"
     ]
    }
   ],
   "source": [
    "p=2*(1-(st.t.cdf(np.absolute(t_test),df=21)))\n",
    "print(p)\n",
    "if p<level_of_significance:\n",
    "    print(\"Null Hypothesis is rejected, 𝜇!=1135\")\n",
    "else:\n",
    "    print(\"Null Hypothesis is accepted,  𝜇=1135\")"
   ]
  },
  {
   "cell_type": "markdown",
   "metadata": {},
   "source": [
    "Problem Statement 7:\n",
    "Fill in the blank spaces in the table and draw your conclusions from it."
   ]
  },
  {
   "cell_type": "markdown",
   "metadata": {},
   "source": [
    "not able to draw conclusions as enough data is not there"
   ]
  },
  {
   "cell_type": "markdown",
   "metadata": {},
   "source": [
    "Problem Statement 5:\n",
    "In a report prepared by the Economic Research Department of a major bank the\n",
    "Department manager maintains that the average annual family income on Metropolis\n",
    "is $48,432. What do you conclude about the validity of the report if a random sample\n",
    "of 400 families shows and average income of $48,574 with a standard deviation of\n",
    "2000?"
   ]
  },
  {
   "cell_type": "markdown",
   "metadata": {},
   "source": [
    "HO: MEAN=48432\n",
    "H1: MEAN!=48432\n",
    "SINCE SAMPLE POPULATION IS HIGH WE CAN USE Z-TEST"
   ]
  },
  {
   "cell_type": "code",
   "execution_count": 268,
   "metadata": {},
   "outputs": [],
   "source": [
    "def z_test(sample_mean,population_mean,standard_error):\n",
    "    return (sample_mean-population_mean)/standard_error\n",
    "def t_test(sample_mean,population_mean,standard_error):\n",
    "    return (sample_mean-population_mean)/standard_error\n",
    "def standard_error(standard_deviation,sample_population):\n",
    "    return (standard_deviation/(np.sqrt(sample_population)))"
   ]
  },
  {
   "cell_type": "code",
   "execution_count": 269,
   "metadata": {},
   "outputs": [],
   "source": [
    "population_mean=48432\n",
    "sample_population=400\n",
    "sample_mean=48574\n",
    "standard_deviation=2000\n",
    "level_of_significance=0.05/2"
   ]
  },
  {
   "cell_type": "code",
   "execution_count": 270,
   "metadata": {},
   "outputs": [],
   "source": [
    "standard_error=standard_error(standard_deviation,sample_population)"
   ]
  },
  {
   "cell_type": "code",
   "execution_count": 271,
   "metadata": {},
   "outputs": [],
   "source": [
    "z_test=z_test(sample_mean,population_mean,standard_error)"
   ]
  },
  {
   "cell_type": "code",
   "execution_count": 273,
   "metadata": {
    "scrolled": true
   },
   "outputs": [
    {
     "name": "stdout",
     "output_type": "stream",
     "text": [
      "0.15560768105309286\n",
      "Null Hypothesis is accepted,  𝜇=48432\n"
     ]
    }
   ],
   "source": [
    "p=2*(1-(st.norm.cdf(np.absolute(z_test))))\n",
    "print(p)\n",
    "if p<level_of_significance:\n",
    "    print(\"Null Hypothesis is rejected, 𝜇!=48432\")\n",
    "else:\n",
    "    print(\"Null Hypothesis is accepted,  𝜇=48432\")"
   ]
  },
  {
   "cell_type": "markdown",
   "metadata": {},
   "source": [
    "Problem Statement 6:\n",
    "Suppose that in past years the average price per square foot for warehouses in the\n",
    "United States has been $32.28. A national real estate investor wants to determine\n",
    "whether that figure has changed now. The investor hires a researcher who randomly\n",
    "samples 19 warehouses that are for sale across the United States and finds that the\n",
    "mean price per square foot is $31.67, with a standard deviation of $1.29. assume\n",
    "that the prices of warehouse footage are normally distributed in population. If the\n",
    "researcher uses a 5% level of significance, what statistical conclusion can be\n",
    "reached? What are the hypotheses?"
   ]
  },
  {
   "cell_type": "code",
   "execution_count": null,
   "metadata": {},
   "outputs": [],
   "source": [
    "H0: population_mean=32.38\n",
    "H1: population_mean !=32.38"
   ]
  },
  {
   "cell_type": "code",
   "execution_count": 290,
   "metadata": {},
   "outputs": [],
   "source": [
    "population_mean=32.28\n",
    "sample_population=19\n",
    "standard_deviation=1.29\n",
    "sample_mean=31.67\n",
    "level_of_significance=0.05/2"
   ]
  },
  {
   "cell_type": "code",
   "execution_count": 291,
   "metadata": {},
   "outputs": [],
   "source": [
    "def z_test(sample_mean,population_mean,standard_error):\n",
    "    return (sample_mean-population_mean)/standard_error\n",
    "def t_test(sample_mean,population_mean,standard_error):\n",
    "    return (sample_mean-population_mean)/standard_error\n",
    "def standard_error(standard_deviation,sample_population):\n",
    "    return (standard_deviation/(np.sqrt(sample_population)))"
   ]
  },
  {
   "cell_type": "code",
   "execution_count": 292,
   "metadata": {},
   "outputs": [],
   "source": [
    "standard_error=standard_error(standard_deviation,sample_population)\n"
   ]
  },
  {
   "cell_type": "code",
   "execution_count": 293,
   "metadata": {},
   "outputs": [],
   "source": [
    "t_test=t_test(sample_mean,population_mean,standard_error)"
   ]
  },
  {
   "cell_type": "code",
   "execution_count": 294,
   "metadata": {},
   "outputs": [
    {
     "name": "stdout",
     "output_type": "stream",
     "text": [
      "0.05403352915997206\n",
      "Null Hypothesis is accepted,  𝜇=32.28\n"
     ]
    }
   ],
   "source": [
    "p=2*(1-(st.t.cdf(np.absolute(t_test),df=18)))\n",
    "print(p)\n",
    "if p<level_of_significance:\n",
    "    print(\"Null Hypothesis is rejected, 𝜇!=32.28\")\n",
    "else:\n",
    "    print(\"Null Hypothesis is accepted,  𝜇=32.28\")"
   ]
  },
  {
   "cell_type": "markdown",
   "metadata": {},
   "source": [
    "Problem Statement 8:\n",
    "Find the t-score for a sample size of 16 taken from a population with mean 10 when\n",
    "the sample mean is 12 and the sample standard deviation is 1.5."
   ]
  },
  {
   "cell_type": "code",
   "execution_count": 151,
   "metadata": {},
   "outputs": [],
   "source": [
    "t_test=t_test(sample_mean=12,population_mean=10,standard_error=standard_error(standard_deviation=1.5,sample_population=16))"
   ]
  },
  {
   "cell_type": "code",
   "execution_count": 152,
   "metadata": {
    "scrolled": true
   },
   "outputs": [
    {
     "data": {
      "text/plain": [
       "5.333333333333333"
      ]
     },
     "execution_count": 152,
     "metadata": {},
     "output_type": "execute_result"
    }
   ],
   "source": [
    "t_test"
   ]
  },
  {
   "cell_type": "markdown",
   "metadata": {},
   "source": [
    "Problem Statement 9: Find the t-score below which we can expect 99% of sample means will fall if samples of size 16 are taken from a normally distributed population."
   ]
  },
  {
   "cell_type": "code",
   "execution_count": 154,
   "metadata": {},
   "outputs": [],
   "source": [
    "t_test=st.t.ppf(q=0.99,df=16)"
   ]
  },
  {
   "cell_type": "code",
   "execution_count": 155,
   "metadata": {
    "scrolled": true
   },
   "outputs": [
    {
     "data": {
      "text/plain": [
       "2.583487185267472"
      ]
     },
     "execution_count": 155,
     "metadata": {},
     "output_type": "execute_result"
    }
   ],
   "source": [
    "t_test"
   ]
  },
  {
   "cell_type": "markdown",
   "metadata": {},
   "source": [
    "Problem Statement 10: If a random sample of size 25 drawn from a normal population gives a mean of 60 and a standard deviation of 4, find the range of t-scores where we can expect to find the middle 95% of all sample means. Compute the probability that (−t0.05 <t<t0.10)."
   ]
  },
  {
   "cell_type": "code",
   "execution_count": 156,
   "metadata": {},
   "outputs": [],
   "source": [
    "t_test=st.t.ppf(q=0.95,df=14)"
   ]
  },
  {
   "cell_type": "code",
   "execution_count": 157,
   "metadata": {
    "scrolled": true
   },
   "outputs": [
    {
     "data": {
      "text/plain": [
       "1.7613101357748562"
      ]
     },
     "execution_count": 157,
     "metadata": {},
     "output_type": "execute_result"
    }
   ],
   "source": [
    "t_test"
   ]
  },
  {
   "cell_type": "markdown",
   "metadata": {},
   "source": [
    "Problem Statement 11:\n",
    "Two-tailed test for difference between two population means\n",
    "Is there evidence to conclude that the number of people travelling from Bangalore to\n",
    "Chennai is different from the number of people travelling from Bangalore to Hosur in\n",
    "a week, given the following:\n",
    "Population 1: Bangalore to Chennai n1 = 1200\n",
    "x1 = 452\n",
    "s1 = 212\n",
    "Population 2: Bangalore to Hosur n2 = 800\n",
    "x2 = 523\n",
    "s2 = 185"
   ]
  },
  {
   "cell_type": "markdown",
   "metadata": {},
   "source": [
    "HO : MEAN x1=MEAN x2\n",
    "H1 : MEAN x1!=MEAN x2"
   ]
  },
  {
   "cell_type": "code",
   "execution_count": 176,
   "metadata": {},
   "outputs": [],
   "source": [
    "def stand_error(variance1,variance2,no_of_sample1,no_of_sample2):\n",
    "    return np.sqrt((variance1**2/no_of_sample1) + (variance2**2/no_of_sample2))\n",
    "def z_stat(mean1,mean2,stand_error):\n",
    "    return (mean1-mean2)/stand_error"
   ]
  },
  {
   "cell_type": "code",
   "execution_count": 177,
   "metadata": {},
   "outputs": [],
   "source": [
    "variance1=212\n",
    "variance2=185\n",
    "no_of_sample1=1200\n",
    "no_of_sample2=800\n",
    "mean1=452\n",
    "mean2=523\n",
    "alpha=0.05\n"
   ]
  },
  {
   "cell_type": "code",
   "execution_count": 178,
   "metadata": {},
   "outputs": [],
   "source": [
    "stand_error=stand_error(variance1,variance2,no_of_sample1,no_of_sample2)"
   ]
  },
  {
   "cell_type": "code",
   "execution_count": 179,
   "metadata": {},
   "outputs": [],
   "source": [
    "z_stat=z_stat(mean1,mean2,stand_error)"
   ]
  },
  {
   "cell_type": "code",
   "execution_count": 180,
   "metadata": {},
   "outputs": [
    {
     "name": "stdout",
     "output_type": "stream",
     "text": [
      "Null Hypothesis is rejected\n"
     ]
    }
   ],
   "source": [
    "p=2*(1-(st.norm.cdf(np.absolute(z_stat))))\n",
    "if p<alpha:\n",
    "    print(\"Null Hypothesis is rejected\")\n",
    "else:\n",
    "    print(\"Null Hypothesis is accepted\")"
   ]
  },
  {
   "cell_type": "markdown",
   "metadata": {},
   "source": [
    "Problem Statement 12:\n",
    "Is there evidence to conclude that the number of people preferring Duracell battery is\n",
    "different from the number of people preferring Energizer battery, given the following:\n",
    "Population 1: Duracell\n",
    "n1 = 100\n",
    "x1 = 308\n",
    "s1 = 84\n",
    "Population 2: Energizer\n",
    "n2 = 100\n",
    "x2 = 254\n",
    "s2 = 67"
   ]
  },
  {
   "cell_type": "code",
   "execution_count": 296,
   "metadata": {},
   "outputs": [],
   "source": [
    "def stand_error(variance1,variance2,no_of_sample1,no_of_sample2):\n",
    "    return np.sqrt((variance1**2/no_of_sample1) + (variance2**2/no_of_sample2))\n",
    "def z_stat(mean1,mean2,stand_error):\n",
    "    return (mean1-mean2)/stand_error"
   ]
  },
  {
   "cell_type": "markdown",
   "metadata": {},
   "source": [
    "HO : MEAN x1=MEAN x2\n",
    "H1 : MEAN x1!=MEAN x2"
   ]
  },
  {
   "cell_type": "code",
   "execution_count": 297,
   "metadata": {},
   "outputs": [],
   "source": [
    "variance1=84\n",
    "variance2=67\n",
    "no_of_sample1=100\n",
    "no_of_sample2=100\n",
    "mean1=308\n",
    "mean2=254\n",
    "alpha=0.05/2"
   ]
  },
  {
   "cell_type": "code",
   "execution_count": 298,
   "metadata": {},
   "outputs": [],
   "source": [
    "stand_error=stand_error(variance1,variance2,no_of_sample1,no_of_sample2)"
   ]
  },
  {
   "cell_type": "code",
   "execution_count": 299,
   "metadata": {},
   "outputs": [],
   "source": [
    "z_stat=z_stat(mean1,mean2,stand_error)"
   ]
  },
  {
   "cell_type": "code",
   "execution_count": 300,
   "metadata": {},
   "outputs": [
    {
     "name": "stdout",
     "output_type": "stream",
     "text": [
      "Null Hypothesis is rejected\n"
     ]
    }
   ],
   "source": [
    "p=2*(1-(st.norm.cdf(np.absolute(z_stat))))\n",
    "if p<alpha:\n",
    "    print(\"Null Hypothesis is rejected\")\n",
    "else:\n",
    "    print(\"Null Hypothesis is accepted\")"
   ]
  },
  {
   "cell_type": "markdown",
   "metadata": {},
   "source": [
    "Problem Statement 13:\n",
    "Pooled estimate of the population variance\n",
    "Does the data provide sufficient evidence to conclude that average percentage\n",
    "increase in the price of sugar differs when it is sold at two different prices?\n",
    "Population 1: Price of sugar = Rs. 27.50 n1 = 14\n",
    "x1 = 0.317%\n",
    "s1 = 0.12%\n",
    "Population 2: Price of sugar = Rs. 20.00 n2 = 9\n",
    "x2 = 0.21%\n",
    "s2 = 0.11%"
   ]
  },
  {
   "cell_type": "code",
   "execution_count": 308,
   "metadata": {},
   "outputs": [],
   "source": [
    "def stand_dev(variance1,variance2,no_of_sample1,no_of_sample2):\n",
    "    return np.sqrt((( variance1**2 )+ ( variance2**2))/(no_of_sample1 +no_of_sample2 -2))\n",
    "def z_stat(mean1,mean2,stand_error):\n",
    "    return (mean1-mean2)/stand_error\n",
    "def stand_error(variance1,variance2,no_of_sample1,no_of_sample2):\n",
    "    return np.sqrt((variance1**2/no_of_sample1) + (variance2**2/no_of_sample2))"
   ]
  },
  {
   "cell_type": "code",
   "execution_count": 309,
   "metadata": {},
   "outputs": [],
   "source": [
    "variance1=0.12\n",
    "variance2=0.11\n",
    "no_of_sample1=14\n",
    "no_of_sample2=9\n",
    "mean1=0.317\n",
    "mean2=0.21\n",
    "alpha=0.05/2"
   ]
  },
  {
   "cell_type": "code",
   "execution_count": 310,
   "metadata": {},
   "outputs": [],
   "source": [
    "stand_dev=stand_dev(variance1,variance2,no_of_sample1,no_of_sample2)"
   ]
  },
  {
   "cell_type": "code",
   "execution_count": 311,
   "metadata": {},
   "outputs": [],
   "source": [
    "stand_error=stand_error(stand_dev,stand_dev,no_of_sample1,no_of_sample2)"
   ]
  },
  {
   "cell_type": "code",
   "execution_count": 312,
   "metadata": {},
   "outputs": [
    {
     "name": "stdout",
     "output_type": "stream",
     "text": [
      "7.050044246104152\n"
     ]
    }
   ],
   "source": [
    "z_stat=z_stat(mean1,mean2,stand_error)\n",
    "print(z_stat)"
   ]
  },
  {
   "cell_type": "code",
   "execution_count": 313,
   "metadata": {},
   "outputs": [
    {
     "name": "stdout",
     "output_type": "stream",
     "text": [
      "5.871071235841185e-07\n",
      "Null Hypothesis is rejected\n"
     ]
    }
   ],
   "source": [
    "p=2*(1-(st.t.cdf(np.absolute(z_stat),df=14+9-2)))\n",
    "print(p)\n",
    "if p<alpha:\n",
    "    print(\"Null Hypothesis is rejected\")\n",
    "else:\n",
    "    print(\"Null Hypothesis is accepted\")"
   ]
  },
  {
   "cell_type": "markdown",
   "metadata": {},
   "source": [
    "Problem Statement 14:\n",
    "The manufacturers of compact disk players want to test whether a small price\n",
    "reduction is enough to increase sales of their product. Is there evidence that the\n",
    "small price reduction is enough to increase sales of compact disk players?\n",
    "Population 1: Before reduction\n",
    "n1 = 15\n",
    "x1 = Rs. 6598 s1 = Rs. 844\n",
    "Population 2: After reduction n2 = 12\n",
    "x2 = RS. 6870\n",
    "s2 = Rs. 669"
   ]
  },
  {
   "cell_type": "code",
   "execution_count": null,
   "metadata": {},
   "outputs": [],
   "source": [
    "HO:MEAN1-MEAN2<=0\n",
    "H1:MEAN1-MEAN2>0\n",
    "T-TEST\n",
    "ONE TAILED"
   ]
  },
  {
   "cell_type": "code",
   "execution_count": 21,
   "metadata": {},
   "outputs": [],
   "source": [
    "import numpy as np\n",
    "import scipy.stats as stats\n",
    "def stand_dev(variance1,variance2,no_of_sample1,no_of_sample2):\n",
    "    return np.sqrt((( variance1**2 )+ ( variance2**2))/(no_of_sample1 +no_of_sample2 -2))\n",
    "def z_stat(mean1,mean2,stand_error):\n",
    "    return (mean1-mean2)/stand_error\n",
    "def stand_error(variance1,variance2,no_of_sample1,no_of_sample2):\n",
    "    return np.sqrt((variance1**2/no_of_sample1) + (variance2**2/no_of_sample2))"
   ]
  },
  {
   "cell_type": "code",
   "execution_count": 22,
   "metadata": {},
   "outputs": [],
   "source": [
    "variance1=844\n",
    "variance2=669\n",
    "no_of_sample1=15\n",
    "no_of_sample2=12\n",
    "mean1=6598\n",
    "mean2=6870\n",
    "alpha=0.05"
   ]
  },
  {
   "cell_type": "code",
   "execution_count": 23,
   "metadata": {},
   "outputs": [],
   "source": [
    "stand_dev=stand_dev(variance1,variance2,no_of_sample1,no_of_sample2)"
   ]
  },
  {
   "cell_type": "code",
   "execution_count": 24,
   "metadata": {},
   "outputs": [],
   "source": [
    "stand_error=stand_error(stand_dev,stand_dev,no_of_sample1,no_of_sample2)"
   ]
  },
  {
   "cell_type": "code",
   "execution_count": 25,
   "metadata": {},
   "outputs": [],
   "source": [
    "t_stat=t_stat(mean1,mean2,stand_error)"
   ]
  },
  {
   "cell_type": "code",
   "execution_count": 26,
   "metadata": {
    "scrolled": true
   },
   "outputs": [
    {
     "name": "stdout",
     "output_type": "stream",
     "text": [
      "0.9983986528527679\n",
      "Null Hypothesis is accepted\n"
     ]
    }
   ],
   "source": [
    "p=stats.t.cdf(np.absolute(t_stat),df=15+12-2)\n",
    "print(p)\n",
    "if p<alpha:\n",
    "    print(\"Null Hypothesis is rejected\")\n",
    "else:\n",
    "    print(\"Null Hypothesis is accepted\")"
   ]
  },
  {
   "cell_type": "markdown",
   "metadata": {},
   "source": [
    "Problem Statement 15:\n",
    "Comparisons of two population proportions when the hypothesized difference is zero\n",
    "Carry out a two-tailed test of the equality of banks’ share of the car loan market in\n",
    "1980 and 1995.\n",
    "Population 1: 1980\n",
    "n1 = 100\n",
    "x1 = 53\n",
    "p1 = 0.53\n",
    "Population 2: 1985\n",
    "n2 = 100\n",
    "x2 = 43\n",
    "p2= 0.43"
   ]
  },
  {
   "cell_type": "code",
   "execution_count": 53,
   "metadata": {},
   "outputs": [],
   "source": [
    "n1 = 100\n",
    "x1 = 53\n",
    "p1 = 0.53\n",
    "\n",
    "n2 = 100\n",
    "x2 = 43\n",
    "p2= 0.43"
   ]
  },
  {
   "cell_type": "code",
   "execution_count": 54,
   "metadata": {},
   "outputs": [
    {
     "data": {
      "text/plain": [
       "0.48"
      ]
     },
     "execution_count": 54,
     "metadata": {},
     "output_type": "execute_result"
    }
   ],
   "source": [
    "p=(x1+x2)/(n1+n2)\n",
    "p"
   ]
  },
  {
   "cell_type": "code",
   "execution_count": 50,
   "metadata": {},
   "outputs": [],
   "source": [
    "import numpy as np\n",
    "import scipy.stats as st"
   ]
  },
  {
   "cell_type": "code",
   "execution_count": 55,
   "metadata": {},
   "outputs": [],
   "source": [
    "def standard_error(p,n1,n2):\n",
    "    return np.sqrt(p*(1-p)*((1/n1)+(1/n2)))\n",
    "def z_stat(p1,p2,standard_error):\n",
    "    return (p1-p2)/standard_error\n",
    "    "
   ]
  },
  {
   "cell_type": "code",
   "execution_count": 56,
   "metadata": {},
   "outputs": [],
   "source": [
    "standard_error=standard_error(p,n1,n2)"
   ]
  },
  {
   "cell_type": "code",
   "execution_count": 57,
   "metadata": {},
   "outputs": [],
   "source": [
    "z_stat=z_stat(p1,p2,standard_error)"
   ]
  },
  {
   "cell_type": "code",
   "execution_count": 64,
   "metadata": {
    "scrolled": true
   },
   "outputs": [
    {
     "data": {
      "text/plain": [
       "1.4153462926807452"
      ]
     },
     "execution_count": 64,
     "metadata": {},
     "output_type": "execute_result"
    }
   ],
   "source": [
    "z_stat"
   ]
  },
  {
   "cell_type": "code",
   "execution_count": 65,
   "metadata": {
    "scrolled": true
   },
   "outputs": [
    {
     "data": {
      "text/plain": [
       "0.15696698825357758"
      ]
     },
     "execution_count": 65,
     "metadata": {},
     "output_type": "execute_result"
    }
   ],
   "source": [
    "p=2*(1-st.norm.cdf(np.absolute(z_stat)))\n",
    "p"
   ]
  },
  {
   "cell_type": "code",
   "execution_count": 74,
   "metadata": {},
   "outputs": [],
   "source": [
    "alpha=0.05/2"
   ]
  },
  {
   "cell_type": "code",
   "execution_count": 75,
   "metadata": {},
   "outputs": [
    {
     "name": "stdout",
     "output_type": "stream",
     "text": [
      "Null Hypothesis is accepted(Banks share of the car loan market in 1980 and 1995 is equal(P1=P2))\n"
     ]
    }
   ],
   "source": [
    "if p<alpha:\n",
    "    print(\"Null Hypothesis is rejected(Banks share of the car loan market in 1980 and 1995 is not equal(P1!=P2))\")\n",
    "else:\n",
    "    print(\"Null Hypothesis is accepted(Banks share of the car loan market in 1980 and 1995 is equal(P1=P2))\")"
   ]
  },
  {
   "cell_type": "markdown",
   "metadata": {},
   "source": [
    "Problem Statement 16:\n",
    "Carry out a one-tailed test to determine whether the population proportion of\n",
    "traveler’s check buyers who buy at least $2500 in checks when sweepstakes prizes\n",
    "are offered as at least 10% higher than the proportion of such buyers when no\n",
    "sweepstakes are on.\n",
    "Population 1: With sweepstakes\n",
    "n1 = 300\n",
    "x1 = 120\n",
    "p = 0.40\n",
    "Population 2: No sweepstakes n2 = 700\n",
    "x2 = 140\n",
    "p 2= 0.20"
   ]
  },
  {
   "cell_type": "code",
   "execution_count": 93,
   "metadata": {},
   "outputs": [],
   "source": [
    "n1 = 300\n",
    "x1 = 120\n",
    "p1 = 0.40\n",
    "n2=700\n",
    "x2 = 140\n",
    "p2= 0.20\n",
    "alpha=0.05"
   ]
  },
  {
   "cell_type": "code",
   "execution_count": 94,
   "metadata": {},
   "outputs": [],
   "source": [
    "def standard_error(p,n1,n2):\n",
    "    return np.sqrt(p*(1-p)*((1/n1)+(1/n2)))"
   ]
  },
  {
   "cell_type": "code",
   "execution_count": 95,
   "metadata": {},
   "outputs": [],
   "source": [
    "p=(x1+x2)/(n1+n2)"
   ]
  },
  {
   "cell_type": "code",
   "execution_count": 96,
   "metadata": {},
   "outputs": [
    {
     "name": "stdout",
     "output_type": "stream",
     "text": [
      "Null Hypothesis is accepted\n"
     ]
    }
   ],
   "source": [
    "\n",
    "\n",
    "standard_error=standard_error(p,n1,n2)\n",
    "z=((p1-p2-0.1)/standard_error)\n",
    "p1=st.norm.cdf(z)\n",
    "if p1<alpha:\n",
    "    print(\"Null Hypothesis is rejected\")\n",
    "else:\n",
    "    print(\"Null Hypothesis is accepted\")"
   ]
  },
  {
   "cell_type": "markdown",
   "metadata": {},
   "source": [
    "Problem Statement 17:\n",
    "A die is thrown 132 times with the following results: Number turned up: 1, 2, 3, 4, 5, 6\n",
    "Frequency: 16, 20, 25, 14, 29, 28\n",
    "Is the die unbiased? Consider the degrees of freedom as p −1 ."
   ]
  },
  {
   "cell_type": "markdown",
   "metadata": {},
   "source": [
    "HO:Dice is unbiased\n",
    "H1:Dice is biased"
   ]
  },
  {
   "cell_type": "code",
   "execution_count": 4,
   "metadata": {},
   "outputs": [],
   "source": [
    "import numpy as np\n",
    "import scipy.stats as st"
   ]
  },
  {
   "cell_type": "code",
   "execution_count": 5,
   "metadata": {},
   "outputs": [
    {
     "name": "stdout",
     "output_type": "stream",
     "text": [
      "Null Hypothesis is accepted\n"
     ]
    }
   ],
   "source": [
    "observed=np.array([16,20,25,14,29,28])\n",
    "expected=np.array([22,22,22,22,22,22])\n",
    "chi,p=st.chisquare(f_obs=observed,f_exp=expected)\n",
    "if p<0.05:\n",
    "    print(\"Null Hypothesis is rejected\")\n",
    "else:\n",
    "    print(\"Null Hypothesis is accepted\")"
   ]
  },
  {
   "cell_type": "markdown",
   "metadata": {},
   "source": [
    "Problem Statement 18:\n",
    "In a certain town, there are about one million eligible voters. A simple random\n",
    "sample of 10,000 eligible voters was chosen to study the relationship between\n",
    "gender and participation in the last election. The results are summarized in the\n",
    "following 2X2 (read two by two) contingency table:"
   ]
  },
  {
   "cell_type": "code",
   "execution_count": 6,
   "metadata": {},
   "outputs": [
    {
     "name": "stdout",
     "output_type": "stream",
     "text": [
      "The expected values are : [[2730.6474 3652.3526]\n",
      " [1547.3526 2069.6474]]\n",
      "Null Hypothesis is rejected(Gender and voting are dependent)\n"
     ]
    }
   ],
   "source": [
    "alpha=0.05\n",
    "inp=np.array([[2792,3591],[1486,2131]])\n",
    "chi2,p,dof,expected=st.chi2_contingency(inp)\n",
    "print(\"The expected values are :\",expected)\n",
    "if p<alpha:\n",
    "    print(\"Null Hypothesis is rejected(Gender and voting are dependent)\")\n",
    "else:\n",
    "    print(\"Null Hypothesis is accepted(Gender and voting is independent)\")"
   ]
  },
  {
   "cell_type": "markdown",
   "metadata": {},
   "source": [
    "Problem Statement 19:\n",
    "A sample of 100 voters are asked which of four candidates they would vote for in an\n",
    "election. The number supporting each candidate is given below:\n",
    "\n",
    "Do the data suggest that all candidates are equally popular? [Chi-Square = 14.96,\n",
    "with 3 df, p 0.05"
   ]
  },
  {
   "cell_type": "code",
   "execution_count": 7,
   "metadata": {},
   "outputs": [
    {
     "name": "stdout",
     "output_type": "stream",
     "text": [
      "Null Hypothesis is rejected(All candidates are not equally popular)\n"
     ]
    }
   ],
   "source": [
    "alpha=0.05\n",
    "obs=[41,19,24,16]\n",
    "exp=[25,25,25,25]\n",
    "chi,p=st.chisquare(f_obs=obs,f_exp=exp)\n",
    "if p<alpha:\n",
    "    print(\"Null Hypothesis is rejected(All candidates are not equally popular)\")\n",
    "else:\n",
    "    print(\"Null Hypothesis is accepted(All candidates are equally popular)\")"
   ]
  },
  {
   "cell_type": "markdown",
   "metadata": {},
   "source": [
    "Problem Statement 20: Children of three ages are asked to indicate their preference for three photographs of adults. Do the data suggest that there is a significant relationship between age and photograph preference? What is wrong with this study? [Chi-Square = 29.6, with 4 df: 𝑝 < 0.05]."
   ]
  },
  {
   "cell_type": "code",
   "execution_count": 8,
   "metadata": {},
   "outputs": [
    {
     "name": "stdout",
     "output_type": "stream",
     "text": [
      "Null Hypothesis is rejected(There is a significant relationship between age and photograph preference. )\n"
     ]
    }
   ],
   "source": [
    "alpha=0.05\n",
    "inp=np.array([[18,22,20],[2,28,40],[20,10,40]])\n",
    "chi2,p,dof,expected=st.chi2_contingency(inp)\n",
    "if p<alpha:\n",
    "    print(\"Null Hypothesis is rejected(There is a significant relationship between age and photograph preference. )\")\n",
    "else:\n",
    "    print(\"Null Hypothesis is accepted(There is no significant relationship between age and photograph preference.)\")"
   ]
  },
  {
   "cell_type": "markdown",
   "metadata": {},
   "source": [
    "Problem Statement 21: A study of conformity using the Asch paradigm involved two conditions: one where one confederate supported the true judgement and another where no confederate gave the correct response. Support No Support Conform 18 40 Not Conform 32 10 Is there a significant difference between the \"support\" and \"no support\" conditions in the frequency with which individuals are likely to conform? [Chi-Square = 19.87, with 1 df: 𝑝 < 0.05]. "
   ]
  },
  {
   "cell_type": "code",
   "execution_count": 9,
   "metadata": {},
   "outputs": [
    {
     "name": "stdout",
     "output_type": "stream",
     "text": [
      "Null Hypothesis is rejected(There is a significant difference between the support and no support conditions in the frequency with which individuals are likely to conform.)\n"
     ]
    }
   ],
   "source": [
    "\n",
    "alpha=0.05\n",
    "inp=np.array([[18,40],[32,10]])\n",
    "chi2,p,dof,expected=st.chi2_contingency(inp)\n",
    "if p<alpha:\n",
    "    print(\"Null Hypothesis is rejected(There is a significant difference between the support and no support conditions in the frequency with which individuals are likely to conform.)\")\n",
    "else:\n",
    "    print(\"Null Hypothesis is accepted(There is no significant difference between the support and no support conditions in the frequency with which individuals are likely to conform.)\")"
   ]
  },
  {
   "cell_type": "markdown",
   "metadata": {},
   "source": [
    "Problem Statement 22: We want to test whether short people differ with respect to their leadership qualities (Genghis Khan, Adolf Hitler and Napoleon were all stature-deprived, and how many midget MP's are there?) The following table shows the frequencies with which 43 short people and 52 tall people were categorized as \"leaders\", \"followers\" or as \"unclassifiable\". Is there a relationship between height and leadership qualities? [Chi-Square = 10.71, with 2 df: 𝑝 < 0.01]."
   ]
  },
  {
   "cell_type": "code",
   "execution_count": 10,
   "metadata": {},
   "outputs": [
    {
     "name": "stdout",
     "output_type": "stream",
     "text": [
      "Null Hypothesis is rejected(There is a relationship between height and leadership qualities.)\n"
     ]
    }
   ],
   "source": [
    "alpha=0.01\n",
    "inp=np.array([[12,32],[22,14],[9,6]])\n",
    "chi2,p,dof,expected=st.chi2_contingency(inp)\n",
    "if p<alpha:\n",
    "    print(\"Null Hypothesis is rejected(There is a relationship between height and leadership qualities.)\")\n",
    "else:\n",
    "    print(\"Null Hypothesis is accepted(There is no relationship between height and leadership qualities.)\")"
   ]
  },
  {
   "cell_type": "markdown",
   "metadata": {},
   "source": [
    " Each respondent in the Current Population Survey of March 1993 was classified as employed, unemployed, or outside the labor force. The results for men in California age 35- 44 can be cross-tabulated by marital status, as follows: Men of different marital status seem to have different distributions of labor force status. Or is this just chance variation? (you may assume the table results from a simple random sample.)"
   ]
  },
  {
   "cell_type": "code",
   "execution_count": 12,
   "metadata": {},
   "outputs": [
    {
     "name": "stdout",
     "output_type": "stream",
     "text": [
      "Null Hypothesis is rejected(Marital status and employement status are dependent.)\n"
     ]
    }
   ],
   "source": [
    "alpha=0.05\n",
    "inp=np.array([[679,103,114],[63,10,20],[42,18,25]])\n",
    "chi2,p,dof,expected=st.chi2_contingency(inp)\n",
    "if p<alpha:\n",
    "    print(\"Null Hypothesis is rejected(Marital status and employement status are dependent.)\")\n",
    "else:\n",
    "    print(\"Null Hypothesis is accepted(Marital status and employement status are independent.)\")"
   ]
  }
 ],
 "metadata": {
  "kernelspec": {
   "display_name": "Python 3",
   "language": "python",
   "name": "python3"
  },
  "language_info": {
   "codemirror_mode": {
    "name": "ipython",
    "version": 3
   },
   "file_extension": ".py",
   "mimetype": "text/x-python",
   "name": "python",
   "nbconvert_exporter": "python",
   "pygments_lexer": "ipython3",
   "version": "3.8.3"
  }
 },
 "nbformat": 4,
 "nbformat_minor": 4
}
