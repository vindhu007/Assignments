{
 "cells": [
  {
   "cell_type": "markdown",
   "metadata": {},
   "source": [
    "1.1 Write a Python Program(with class concepts) to find the area of the triangle using the below\n",
    "formula.\n",
    "area = (s*(s-a)*(s-b)*(s-c)) ** 0.5\n",
    "Function to take the length of the sides of triangle from user should be defined in the parent\n",
    "class and function to calculate the area should be defined in subclass."
   ]
  },
  {
   "cell_type": "code",
   "execution_count": 1,
   "metadata": {},
   "outputs": [
    {
     "data": {
      "text/plain": [
       "1062.3517249480042"
      ]
     },
     "execution_count": 1,
     "metadata": {},
     "output_type": "execute_result"
    }
   ],
   "source": [
    "class Parents_Area_Class:\n",
    "    def __init__(self,a,b,c):\n",
    "        self.a = a\n",
    "        self.b = b\n",
    "        self.c = c\n",
    "    def area(self):\n",
    "        s = (self.a + self.b + self.c) / 2\n",
    "        area = (s*(s-self.a)*(s-self.b)*(s-self.c))**0.5\n",
    "        return area\n",
    "    \n",
    "t1 = Parents_Area_Class(89,85,25)\n",
    "t1.area()"
   ]
  },
  {
   "cell_type": "markdown",
   "metadata": {},
   "source": [
    "Write a function filter_long_words() that takes a list of words and an integer n and returns the list of words that are longer than n ."
   ]
  },
  {
   "cell_type": "code",
   "execution_count": 2,
   "metadata": {},
   "outputs": [
    {
     "data": {
      "text/plain": [
       "['vindhu', 'neuron']"
      ]
     },
     "execution_count": 2,
     "metadata": {},
     "output_type": "execute_result"
    }
   ],
   "source": [
    "\n",
    "def filter_long_words(word_list , n):\n",
    "    filtered_list = []\n",
    "    for i in word_list[:]:\n",
    "        if len(i)>n :\n",
    "            filtered_list.append(i)\n",
    "            \n",
    "    return filtered_list\n",
    "\n",
    "no = 4\n",
    "lis = ['vindhu' , 'v' , 'oreo' , 'paco' ,'i' , 'neuron' , 'we']\n",
    "filter_long_words(lis , no)"
   ]
  },
  {
   "cell_type": "markdown",
   "metadata": {},
   "source": [
    "Write a Python program using function concept that maps list of words into a list of integers representing the lengths of the corresponding words.\n",
    "\n",
    "Hint: If a list [ ab,cde,erty] is passed on to the python function output should come as [2,3,4] Here 2,3 and 4 are the lengths of the words in the list."
   ]
  },
  {
   "cell_type": "code",
   "execution_count": 3,
   "metadata": {},
   "outputs": [
    {
     "name": "stdout",
     "output_type": "stream",
     "text": [
      "[6, 1, 4, 4, 1, 6, 2]\n"
     ]
    }
   ],
   "source": [
    "def length(word):\n",
    "    return len(word)\n",
    "\n",
    "lis = ('vindhu' , 'v' , 'oreo' , 'paco' ,'i' , 'neuron' , 'we')\n",
    "length_list = map(length , lis)\n",
    "print(list(length_list))"
   ]
  },
  {
   "cell_type": "markdown",
   "metadata": {},
   "source": [
    "Write a Python function which takes a character (i.e. a string of length 1) and returns True if it is a vowel, False otherwi"
   ]
  },
  {
   "cell_type": "code",
   "execution_count": 4,
   "metadata": {},
   "outputs": [
    {
     "data": {
      "text/plain": [
       "(False, True, False, True)"
      ]
     },
     "execution_count": 4,
     "metadata": {},
     "output_type": "execute_result"
    }
   ],
   "source": [
    "def character_check(letter):\n",
    "    vowel = ['a' , 'e' ,'i' ,'o','u']\n",
    "    if letter in vowel:\n",
    "        return True\n",
    "    return False\n",
    "    \n",
    "character_check('l') , character_check('e') , character_check('p') , character_check('o')"
   ]
  }
 ],
 "metadata": {
  "kernelspec": {
   "display_name": "Python 3",
   "language": "python",
   "name": "python3"
  },
  "language_info": {
   "codemirror_mode": {
    "name": "ipython",
    "version": 3
   },
   "file_extension": ".py",
   "mimetype": "text/x-python",
   "name": "python",
   "nbconvert_exporter": "python",
   "pygments_lexer": "ipython3",
   "version": "3.8.3"
  }
 },
 "nbformat": 4,
 "nbformat_minor": 4
}
