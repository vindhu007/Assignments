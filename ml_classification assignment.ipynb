{
 "cells": [
  {
   "cell_type": "code",
   "execution_count": null,
   "metadata": {},
   "outputs": [],
   "source": [
    "This assignment will help you to consolidate the concepts learnt in the session.\n",
    "\n",
    "2.Problem Statement\n",
    "This data was extracted from the census bureau database found at\n",
    "http://www.census.gov/ftp/pub/DES/www/welcome.html\n",
    "Donor: Ronny Kohavi and Barry Becker, Data Mining and\n",
    "Visualization\n",
    "Silicon Graphics.\n",
    "e-mail: ronnyk@sgi.com for questions.\n",
    "Split into train-test using MLC++ GenCVFiles (2/3, 1/3 random).\n",
    "48842 instances, mix of continuous and discrete (train=32561, test=16281)\n",
    "45222 if instances with unknown values are removed (train=30162, test=15060)\n",
    "Duplicate or conflicting instances : 6\n",
    "Class probabilities for adult.all file\n",
    "Probability for the label '>50K' : 23.93% / 24.78% (without unknowns)\n",
    "Probability for the label '<=50K' : 76.07% / 75.22% (without unknowns)\n",
    "Extraction was done by Barry Becker from the 1994 Census database. A set of\n",
    "reasonably clean records was extracted using the following conditions:\n",
    "((AAGE>16) && (AGI>100) && (AFNLWGT>1)&& (HRSWK>0)) Prediction task is to\n",
    "determine whether a person makes over 50K a year. Conversion of original data as\n",
    "follows:\n",
    "1. Discretized a gross income into two ranges with threshold 50,000.\n",
    "2. Convert U.S. to US to avoid periods.\n",
    "\n",
    "3. Convert Unknown to \"?\"\n",
    "4. Run MLC++ GenCVFiles to generate data,test.\n",
    "Description of fnlwgt (final weight)\n",
    "The weights on the CPS files are controlled to independent estimates of the civilian\n",
    "noninstitutional population of the US. These are prepared monthly for us by Population\n",
    "Division here at the Census Bureau. We use 3 sets of controls.\n",
    "These are:\n",
    "1.A single cell estimate of the population 16+ for each state.\n",
    "2. Controls for Hispanic Origin by age and sex.\n",
    "3. Controls by Race, age and sex.\n",
    "We use all three sets of controls in our weighting program and \"rake\" through them 6\n",
    "times so that by the end we come back to all the controls we used.\n",
    "The term estimate refers to population totals derived from CPS by creating \"weighted\n",
    "tallies\" of any specified socio-economic characteristics of the population. People with\n",
    "similar demographic characteristics should have similar weights. There is one important\n",
    "caveat to remember about this statement. That is that since the CPS sample is actually a\n",
    "collection of 51 state samples, each with its own probability of selection, the statement\n",
    "only applies within state.\n",
    "Dataset Link\n",
    "https://archive.ics.uci.edu/ml/machine-learning-databases/adult/\n",
    "\n",
    "Problem 1:\n",
    "Prediction task is to determine whether a person makes over 50K a year.\n",
    "Problem 2:\n",
    "Which factors are important\n",
    "Problem 3:\n",
    "Which algorithms are best for this dataset"
   ]
  },
  {
   "cell_type": "code",
   "execution_count": 1,
   "metadata": {},
   "outputs": [],
   "source": [
    "import numpy as np\n",
    "import pandas as pd"
   ]
  },
  {
   "cell_type": "code",
   "execution_count": 2,
   "metadata": {
    "scrolled": true
   },
   "outputs": [],
   "source": [
    "name=['age','workclass','fnlwgt','education','edu-num','marital','occupation','relationship','race','sex','capital_gain','capital_loss','hours_week','country','classifier']"
   ]
  },
  {
   "cell_type": "code",
   "execution_count": 3,
   "metadata": {},
   "outputs": [],
   "source": [
    "df1=pd.read_csv('D:/adult.csv',names=name)"
   ]
  },
  {
   "cell_type": "code",
   "execution_count": 4,
   "metadata": {},
   "outputs": [
    {
     "data": {
      "text/html": [
       "<div>\n",
       "<style scoped>\n",
       "    .dataframe tbody tr th:only-of-type {\n",
       "        vertical-align: middle;\n",
       "    }\n",
       "\n",
       "    .dataframe tbody tr th {\n",
       "        vertical-align: top;\n",
       "    }\n",
       "\n",
       "    .dataframe thead th {\n",
       "        text-align: right;\n",
       "    }\n",
       "</style>\n",
       "<table border=\"1\" class=\"dataframe\">\n",
       "  <thead>\n",
       "    <tr style=\"text-align: right;\">\n",
       "      <th></th>\n",
       "      <th>age</th>\n",
       "      <th>workclass</th>\n",
       "      <th>fnlwgt</th>\n",
       "      <th>education</th>\n",
       "      <th>edu-num</th>\n",
       "      <th>marital</th>\n",
       "      <th>occupation</th>\n",
       "      <th>relationship</th>\n",
       "      <th>race</th>\n",
       "      <th>sex</th>\n",
       "      <th>capital_gain</th>\n",
       "      <th>capital_loss</th>\n",
       "      <th>hours_week</th>\n",
       "      <th>country</th>\n",
       "      <th>classifier</th>\n",
       "    </tr>\n",
       "  </thead>\n",
       "  <tbody>\n",
       "    <tr>\n",
       "      <th>0</th>\n",
       "      <td>39</td>\n",
       "      <td>State-gov</td>\n",
       "      <td>77516</td>\n",
       "      <td>Bachelors</td>\n",
       "      <td>13</td>\n",
       "      <td>Never-married</td>\n",
       "      <td>Adm-clerical</td>\n",
       "      <td>Not-in-family</td>\n",
       "      <td>White</td>\n",
       "      <td>Male</td>\n",
       "      <td>2174</td>\n",
       "      <td>0</td>\n",
       "      <td>40</td>\n",
       "      <td>United-States</td>\n",
       "      <td>&lt;=50K</td>\n",
       "    </tr>\n",
       "    <tr>\n",
       "      <th>1</th>\n",
       "      <td>50</td>\n",
       "      <td>Self-emp-not-inc</td>\n",
       "      <td>83311</td>\n",
       "      <td>Bachelors</td>\n",
       "      <td>13</td>\n",
       "      <td>Married-civ-spouse</td>\n",
       "      <td>Exec-managerial</td>\n",
       "      <td>Husband</td>\n",
       "      <td>White</td>\n",
       "      <td>Male</td>\n",
       "      <td>0</td>\n",
       "      <td>0</td>\n",
       "      <td>13</td>\n",
       "      <td>United-States</td>\n",
       "      <td>&lt;=50K</td>\n",
       "    </tr>\n",
       "    <tr>\n",
       "      <th>2</th>\n",
       "      <td>38</td>\n",
       "      <td>Private</td>\n",
       "      <td>215646</td>\n",
       "      <td>HS-grad</td>\n",
       "      <td>9</td>\n",
       "      <td>Divorced</td>\n",
       "      <td>Handlers-cleaners</td>\n",
       "      <td>Not-in-family</td>\n",
       "      <td>White</td>\n",
       "      <td>Male</td>\n",
       "      <td>0</td>\n",
       "      <td>0</td>\n",
       "      <td>40</td>\n",
       "      <td>United-States</td>\n",
       "      <td>&lt;=50K</td>\n",
       "    </tr>\n",
       "    <tr>\n",
       "      <th>3</th>\n",
       "      <td>53</td>\n",
       "      <td>Private</td>\n",
       "      <td>234721</td>\n",
       "      <td>11th</td>\n",
       "      <td>7</td>\n",
       "      <td>Married-civ-spouse</td>\n",
       "      <td>Handlers-cleaners</td>\n",
       "      <td>Husband</td>\n",
       "      <td>Black</td>\n",
       "      <td>Male</td>\n",
       "      <td>0</td>\n",
       "      <td>0</td>\n",
       "      <td>40</td>\n",
       "      <td>United-States</td>\n",
       "      <td>&lt;=50K</td>\n",
       "    </tr>\n",
       "    <tr>\n",
       "      <th>4</th>\n",
       "      <td>28</td>\n",
       "      <td>Private</td>\n",
       "      <td>338409</td>\n",
       "      <td>Bachelors</td>\n",
       "      <td>13</td>\n",
       "      <td>Married-civ-spouse</td>\n",
       "      <td>Prof-specialty</td>\n",
       "      <td>Wife</td>\n",
       "      <td>Black</td>\n",
       "      <td>Female</td>\n",
       "      <td>0</td>\n",
       "      <td>0</td>\n",
       "      <td>40</td>\n",
       "      <td>Cuba</td>\n",
       "      <td>&lt;=50K</td>\n",
       "    </tr>\n",
       "  </tbody>\n",
       "</table>\n",
       "</div>"
      ],
      "text/plain": [
       "   age          workclass  fnlwgt   education  edu-num              marital  \\\n",
       "0   39          State-gov   77516   Bachelors       13        Never-married   \n",
       "1   50   Self-emp-not-inc   83311   Bachelors       13   Married-civ-spouse   \n",
       "2   38            Private  215646     HS-grad        9             Divorced   \n",
       "3   53            Private  234721        11th        7   Married-civ-spouse   \n",
       "4   28            Private  338409   Bachelors       13   Married-civ-spouse   \n",
       "\n",
       "           occupation    relationship    race      sex  capital_gain  \\\n",
       "0        Adm-clerical   Not-in-family   White     Male          2174   \n",
       "1     Exec-managerial         Husband   White     Male             0   \n",
       "2   Handlers-cleaners   Not-in-family   White     Male             0   \n",
       "3   Handlers-cleaners         Husband   Black     Male             0   \n",
       "4      Prof-specialty            Wife   Black   Female             0   \n",
       "\n",
       "   capital_loss  hours_week         country classifier  \n",
       "0             0          40   United-States      <=50K  \n",
       "1             0          13   United-States      <=50K  \n",
       "2             0          40   United-States      <=50K  \n",
       "3             0          40   United-States      <=50K  \n",
       "4             0          40            Cuba      <=50K  "
      ]
     },
     "execution_count": 4,
     "metadata": {},
     "output_type": "execute_result"
    }
   ],
   "source": [
    "df1.head()"
   ]
  },
  {
   "cell_type": "code",
   "execution_count": 4,
   "metadata": {},
   "outputs": [],
   "source": [
    "df2=pd.read_csv('D:/adult_test.csv',names=name,skiprows=1)"
   ]
  },
  {
   "cell_type": "code",
   "execution_count": 7,
   "metadata": {
    "scrolled": true
   },
   "outputs": [
    {
     "data": {
      "text/html": [
       "<div>\n",
       "<style scoped>\n",
       "    .dataframe tbody tr th:only-of-type {\n",
       "        vertical-align: middle;\n",
       "    }\n",
       "\n",
       "    .dataframe tbody tr th {\n",
       "        vertical-align: top;\n",
       "    }\n",
       "\n",
       "    .dataframe thead th {\n",
       "        text-align: right;\n",
       "    }\n",
       "</style>\n",
       "<table border=\"1\" class=\"dataframe\">\n",
       "  <thead>\n",
       "    <tr style=\"text-align: right;\">\n",
       "      <th></th>\n",
       "      <th>age</th>\n",
       "      <th>workclass</th>\n",
       "      <th>fnlwgt</th>\n",
       "      <th>education</th>\n",
       "      <th>edu-num</th>\n",
       "      <th>marital</th>\n",
       "      <th>occupation</th>\n",
       "      <th>relationship</th>\n",
       "      <th>race</th>\n",
       "      <th>sex</th>\n",
       "      <th>capital_gain</th>\n",
       "      <th>capital_loss</th>\n",
       "      <th>hours_week</th>\n",
       "      <th>country</th>\n",
       "      <th>classifier</th>\n",
       "    </tr>\n",
       "  </thead>\n",
       "  <tbody>\n",
       "    <tr>\n",
       "      <th>0</th>\n",
       "      <td>25</td>\n",
       "      <td>Private</td>\n",
       "      <td>226802</td>\n",
       "      <td>11th</td>\n",
       "      <td>7</td>\n",
       "      <td>Never-married</td>\n",
       "      <td>Machine-op-inspct</td>\n",
       "      <td>Own-child</td>\n",
       "      <td>Black</td>\n",
       "      <td>Male</td>\n",
       "      <td>0</td>\n",
       "      <td>0</td>\n",
       "      <td>40</td>\n",
       "      <td>United-States</td>\n",
       "      <td>&lt;=50K.</td>\n",
       "    </tr>\n",
       "    <tr>\n",
       "      <th>1</th>\n",
       "      <td>38</td>\n",
       "      <td>Private</td>\n",
       "      <td>89814</td>\n",
       "      <td>HS-grad</td>\n",
       "      <td>9</td>\n",
       "      <td>Married-civ-spouse</td>\n",
       "      <td>Farming-fishing</td>\n",
       "      <td>Husband</td>\n",
       "      <td>White</td>\n",
       "      <td>Male</td>\n",
       "      <td>0</td>\n",
       "      <td>0</td>\n",
       "      <td>50</td>\n",
       "      <td>United-States</td>\n",
       "      <td>&lt;=50K.</td>\n",
       "    </tr>\n",
       "    <tr>\n",
       "      <th>2</th>\n",
       "      <td>28</td>\n",
       "      <td>Local-gov</td>\n",
       "      <td>336951</td>\n",
       "      <td>Assoc-acdm</td>\n",
       "      <td>12</td>\n",
       "      <td>Married-civ-spouse</td>\n",
       "      <td>Protective-serv</td>\n",
       "      <td>Husband</td>\n",
       "      <td>White</td>\n",
       "      <td>Male</td>\n",
       "      <td>0</td>\n",
       "      <td>0</td>\n",
       "      <td>40</td>\n",
       "      <td>United-States</td>\n",
       "      <td>&gt;50K.</td>\n",
       "    </tr>\n",
       "    <tr>\n",
       "      <th>3</th>\n",
       "      <td>44</td>\n",
       "      <td>Private</td>\n",
       "      <td>160323</td>\n",
       "      <td>Some-college</td>\n",
       "      <td>10</td>\n",
       "      <td>Married-civ-spouse</td>\n",
       "      <td>Machine-op-inspct</td>\n",
       "      <td>Husband</td>\n",
       "      <td>Black</td>\n",
       "      <td>Male</td>\n",
       "      <td>7688</td>\n",
       "      <td>0</td>\n",
       "      <td>40</td>\n",
       "      <td>United-States</td>\n",
       "      <td>&gt;50K.</td>\n",
       "    </tr>\n",
       "    <tr>\n",
       "      <th>4</th>\n",
       "      <td>18</td>\n",
       "      <td>?</td>\n",
       "      <td>103497</td>\n",
       "      <td>Some-college</td>\n",
       "      <td>10</td>\n",
       "      <td>Never-married</td>\n",
       "      <td>?</td>\n",
       "      <td>Own-child</td>\n",
       "      <td>White</td>\n",
       "      <td>Female</td>\n",
       "      <td>0</td>\n",
       "      <td>0</td>\n",
       "      <td>30</td>\n",
       "      <td>United-States</td>\n",
       "      <td>&lt;=50K.</td>\n",
       "    </tr>\n",
       "  </tbody>\n",
       "</table>\n",
       "</div>"
      ],
      "text/plain": [
       "   age   workclass  fnlwgt      education  edu-num              marital  \\\n",
       "0   25     Private  226802           11th        7        Never-married   \n",
       "1   38     Private   89814        HS-grad        9   Married-civ-spouse   \n",
       "2   28   Local-gov  336951     Assoc-acdm       12   Married-civ-spouse   \n",
       "3   44     Private  160323   Some-college       10   Married-civ-spouse   \n",
       "4   18           ?  103497   Some-college       10        Never-married   \n",
       "\n",
       "           occupation relationship    race      sex  capital_gain  \\\n",
       "0   Machine-op-inspct    Own-child   Black     Male             0   \n",
       "1     Farming-fishing      Husband   White     Male             0   \n",
       "2     Protective-serv      Husband   White     Male             0   \n",
       "3   Machine-op-inspct      Husband   Black     Male          7688   \n",
       "4                   ?    Own-child   White   Female             0   \n",
       "\n",
       "   capital_loss  hours_week         country classifier  \n",
       "0             0          40   United-States     <=50K.  \n",
       "1             0          50   United-States     <=50K.  \n",
       "2             0          40   United-States      >50K.  \n",
       "3             0          40   United-States      >50K.  \n",
       "4             0          30   United-States     <=50K.  "
      ]
     },
     "execution_count": 7,
     "metadata": {},
     "output_type": "execute_result"
    }
   ],
   "source": [
    "df2.head()"
   ]
  },
  {
   "cell_type": "code",
   "execution_count": 5,
   "metadata": {
    "scrolled": true
   },
   "outputs": [],
   "source": [
    "df=pd.concat([df1,df2],axis=0)"
   ]
  },
  {
   "cell_type": "code",
   "execution_count": 18,
   "metadata": {
    "scrolled": true
   },
   "outputs": [
    {
     "data": {
      "text/html": [
       "<div>\n",
       "<style scoped>\n",
       "    .dataframe tbody tr th:only-of-type {\n",
       "        vertical-align: middle;\n",
       "    }\n",
       "\n",
       "    .dataframe tbody tr th {\n",
       "        vertical-align: top;\n",
       "    }\n",
       "\n",
       "    .dataframe thead th {\n",
       "        text-align: right;\n",
       "    }\n",
       "</style>\n",
       "<table border=\"1\" class=\"dataframe\">\n",
       "  <thead>\n",
       "    <tr style=\"text-align: right;\">\n",
       "      <th></th>\n",
       "      <th>age</th>\n",
       "      <th>workclass</th>\n",
       "      <th>fnlwgt</th>\n",
       "      <th>education</th>\n",
       "      <th>edu-num</th>\n",
       "      <th>marital</th>\n",
       "      <th>occupation</th>\n",
       "      <th>relationship</th>\n",
       "      <th>race</th>\n",
       "      <th>sex</th>\n",
       "      <th>capital_gain</th>\n",
       "      <th>capital_loss</th>\n",
       "      <th>hours_week</th>\n",
       "      <th>country</th>\n",
       "      <th>classifier</th>\n",
       "    </tr>\n",
       "  </thead>\n",
       "  <tbody>\n",
       "    <tr>\n",
       "      <th>0</th>\n",
       "      <td>39</td>\n",
       "      <td>State-gov</td>\n",
       "      <td>77516</td>\n",
       "      <td>Bachelors</td>\n",
       "      <td>13</td>\n",
       "      <td>Never-married</td>\n",
       "      <td>Adm-clerical</td>\n",
       "      <td>Not-in-family</td>\n",
       "      <td>White</td>\n",
       "      <td>Male</td>\n",
       "      <td>2174</td>\n",
       "      <td>0</td>\n",
       "      <td>40</td>\n",
       "      <td>United-States</td>\n",
       "      <td>&lt;=50K</td>\n",
       "    </tr>\n",
       "    <tr>\n",
       "      <th>1</th>\n",
       "      <td>50</td>\n",
       "      <td>Self-emp-not-inc</td>\n",
       "      <td>83311</td>\n",
       "      <td>Bachelors</td>\n",
       "      <td>13</td>\n",
       "      <td>Married-civ-spouse</td>\n",
       "      <td>Exec-managerial</td>\n",
       "      <td>Husband</td>\n",
       "      <td>White</td>\n",
       "      <td>Male</td>\n",
       "      <td>0</td>\n",
       "      <td>0</td>\n",
       "      <td>13</td>\n",
       "      <td>United-States</td>\n",
       "      <td>&lt;=50K</td>\n",
       "    </tr>\n",
       "    <tr>\n",
       "      <th>2</th>\n",
       "      <td>38</td>\n",
       "      <td>Private</td>\n",
       "      <td>215646</td>\n",
       "      <td>HS-grad</td>\n",
       "      <td>9</td>\n",
       "      <td>Divorced</td>\n",
       "      <td>Handlers-cleaners</td>\n",
       "      <td>Not-in-family</td>\n",
       "      <td>White</td>\n",
       "      <td>Male</td>\n",
       "      <td>0</td>\n",
       "      <td>0</td>\n",
       "      <td>40</td>\n",
       "      <td>United-States</td>\n",
       "      <td>&lt;=50K</td>\n",
       "    </tr>\n",
       "    <tr>\n",
       "      <th>3</th>\n",
       "      <td>53</td>\n",
       "      <td>Private</td>\n",
       "      <td>234721</td>\n",
       "      <td>11th</td>\n",
       "      <td>7</td>\n",
       "      <td>Married-civ-spouse</td>\n",
       "      <td>Handlers-cleaners</td>\n",
       "      <td>Husband</td>\n",
       "      <td>Black</td>\n",
       "      <td>Male</td>\n",
       "      <td>0</td>\n",
       "      <td>0</td>\n",
       "      <td>40</td>\n",
       "      <td>United-States</td>\n",
       "      <td>&lt;=50K</td>\n",
       "    </tr>\n",
       "    <tr>\n",
       "      <th>4</th>\n",
       "      <td>28</td>\n",
       "      <td>Private</td>\n",
       "      <td>338409</td>\n",
       "      <td>Bachelors</td>\n",
       "      <td>13</td>\n",
       "      <td>Married-civ-spouse</td>\n",
       "      <td>Prof-specialty</td>\n",
       "      <td>Wife</td>\n",
       "      <td>Black</td>\n",
       "      <td>Female</td>\n",
       "      <td>0</td>\n",
       "      <td>0</td>\n",
       "      <td>40</td>\n",
       "      <td>Cuba</td>\n",
       "      <td>&lt;=50K</td>\n",
       "    </tr>\n",
       "  </tbody>\n",
       "</table>\n",
       "</div>"
      ],
      "text/plain": [
       "   age          workclass  fnlwgt   education  edu-num              marital  \\\n",
       "0   39          State-gov   77516   Bachelors       13        Never-married   \n",
       "1   50   Self-emp-not-inc   83311   Bachelors       13   Married-civ-spouse   \n",
       "2   38            Private  215646     HS-grad        9             Divorced   \n",
       "3   53            Private  234721        11th        7   Married-civ-spouse   \n",
       "4   28            Private  338409   Bachelors       13   Married-civ-spouse   \n",
       "\n",
       "           occupation    relationship    race      sex  capital_gain  \\\n",
       "0        Adm-clerical   Not-in-family   White     Male          2174   \n",
       "1     Exec-managerial         Husband   White     Male             0   \n",
       "2   Handlers-cleaners   Not-in-family   White     Male             0   \n",
       "3   Handlers-cleaners         Husband   Black     Male             0   \n",
       "4      Prof-specialty            Wife   Black   Female             0   \n",
       "\n",
       "   capital_loss  hours_week         country classifier  \n",
       "0             0          40   United-States      <=50K  \n",
       "1             0          13   United-States      <=50K  \n",
       "2             0          40   United-States      <=50K  \n",
       "3             0          40   United-States      <=50K  \n",
       "4             0          40            Cuba      <=50K  "
      ]
     },
     "execution_count": 18,
     "metadata": {},
     "output_type": "execute_result"
    }
   ],
   "source": [
    "df.head()"
   ]
  },
  {
   "cell_type": "code",
   "execution_count": 20,
   "metadata": {
    "scrolled": true
   },
   "outputs": [
    {
     "data": {
      "text/plain": [
       "array([39, 50, 38, 53, 28, 37, 49, 52, 31, 42, 30, 23, 32, 40, 34, 25, 43,\n",
       "       54, 35, 59, 56, 19, 20, 45, 22, 48, 21, 24, 57, 44, 41, 29, 18, 47,\n",
       "       46, 36, 79, 27, 67, 33, 76, 17, 55, 61, 70, 64, 71, 68, 66, 51, 58,\n",
       "       26, 60, 90, 75, 65, 77, 62, 63, 80, 72, 74, 69, 73, 81, 78, 88, 82,\n",
       "       83, 84, 85, 86, 87, 89], dtype=int64)"
      ]
     },
     "execution_count": 20,
     "metadata": {},
     "output_type": "execute_result"
    }
   ],
   "source": [
    "df.age.unique()"
   ]
  },
  {
   "cell_type": "code",
   "execution_count": 21,
   "metadata": {
    "scrolled": false
   },
   "outputs": [
    {
     "data": {
      "text/plain": [
       "array([' State-gov', ' Self-emp-not-inc', ' Private', ' Federal-gov',\n",
       "       ' Local-gov', ' ?', ' Self-emp-inc', ' Without-pay',\n",
       "       ' Never-worked'], dtype=object)"
      ]
     },
     "execution_count": 21,
     "metadata": {},
     "output_type": "execute_result"
    }
   ],
   "source": [
    "df.workclass.unique()"
   ]
  },
  {
   "cell_type": "code",
   "execution_count": 22,
   "metadata": {
    "scrolled": true
   },
   "outputs": [
    {
     "data": {
      "text/plain": [
       "array([ 77516,  83311, 215646, ..., 173449,  89686, 350977], dtype=int64)"
      ]
     },
     "execution_count": 22,
     "metadata": {},
     "output_type": "execute_result"
    }
   ],
   "source": [
    "df.fnlwgt.unique()"
   ]
  },
  {
   "cell_type": "code",
   "execution_count": 23,
   "metadata": {
    "scrolled": true
   },
   "outputs": [
    {
     "data": {
      "text/plain": [
       "array([' Bachelors', ' HS-grad', ' 11th', ' Masters', ' 9th',\n",
       "       ' Some-college', ' Assoc-acdm', ' Assoc-voc', ' 7th-8th',\n",
       "       ' Doctorate', ' Prof-school', ' 5th-6th', ' 10th', ' 1st-4th',\n",
       "       ' Preschool', ' 12th'], dtype=object)"
      ]
     },
     "execution_count": 23,
     "metadata": {},
     "output_type": "execute_result"
    }
   ],
   "source": [
    "df.education.unique()"
   ]
  },
  {
   "cell_type": "code",
   "execution_count": 25,
   "metadata": {
    "scrolled": true
   },
   "outputs": [
    {
     "data": {
      "text/plain": [
       "array([' Never-married', ' Married-civ-spouse', ' Divorced',\n",
       "       ' Married-spouse-absent', ' Separated', ' Married-AF-spouse',\n",
       "       ' Widowed'], dtype=object)"
      ]
     },
     "execution_count": 25,
     "metadata": {},
     "output_type": "execute_result"
    }
   ],
   "source": [
    "df.marital.unique()"
   ]
  },
  {
   "cell_type": "code",
   "execution_count": 26,
   "metadata": {
    "scrolled": true
   },
   "outputs": [
    {
     "data": {
      "text/plain": [
       "array([' Adm-clerical', ' Exec-managerial', ' Handlers-cleaners',\n",
       "       ' Prof-specialty', ' Other-service', ' Sales', ' Craft-repair',\n",
       "       ' Transport-moving', ' Farming-fishing', ' Machine-op-inspct',\n",
       "       ' Tech-support', ' ?', ' Protective-serv', ' Armed-Forces',\n",
       "       ' Priv-house-serv'], dtype=object)"
      ]
     },
     "execution_count": 26,
     "metadata": {},
     "output_type": "execute_result"
    }
   ],
   "source": [
    "df.occupation.unique()"
   ]
  },
  {
   "cell_type": "code",
   "execution_count": 27,
   "metadata": {
    "scrolled": true
   },
   "outputs": [
    {
     "data": {
      "text/plain": [
       "array([' Not-in-family', ' Husband', ' Wife', ' Own-child', ' Unmarried',\n",
       "       ' Other-relative'], dtype=object)"
      ]
     },
     "execution_count": 27,
     "metadata": {},
     "output_type": "execute_result"
    }
   ],
   "source": [
    "df.relationship.unique()"
   ]
  },
  {
   "cell_type": "code",
   "execution_count": 28,
   "metadata": {
    "scrolled": true
   },
   "outputs": [
    {
     "data": {
      "text/plain": [
       "array([' White', ' Black', ' Asian-Pac-Islander', ' Amer-Indian-Eskimo',\n",
       "       ' Other'], dtype=object)"
      ]
     },
     "execution_count": 28,
     "metadata": {},
     "output_type": "execute_result"
    }
   ],
   "source": [
    "df.race.unique()"
   ]
  },
  {
   "cell_type": "code",
   "execution_count": 29,
   "metadata": {
    "scrolled": true
   },
   "outputs": [
    {
     "data": {
      "text/plain": [
       "array([' Male', ' Female'], dtype=object)"
      ]
     },
     "execution_count": 29,
     "metadata": {},
     "output_type": "execute_result"
    }
   ],
   "source": [
    "df.sex.unique()"
   ]
  },
  {
   "cell_type": "code",
   "execution_count": 30,
   "metadata": {
    "scrolled": true
   },
   "outputs": [
    {
     "data": {
      "text/plain": [
       "array([ 2174,     0, 14084,  5178,  5013,  2407, 14344, 15024,  7688,\n",
       "       34095,  4064,  4386,  7298,  1409,  3674,  1055,  3464,  2050,\n",
       "        2176,   594, 20051,  6849,  4101,  1111,  8614,  3411,  2597,\n",
       "       25236,  4650,  9386,  2463,  3103, 10605,  2964,  3325,  2580,\n",
       "        3471,  4865, 99999,  6514,  1471,  2329,  2105,  2885, 25124,\n",
       "       10520,  2202,  2961, 27828,  6767,  2228,  1506, 13550,  2635,\n",
       "        5556,  4787,  3781,  3137,  3818,  3942,   914,   401,  2829,\n",
       "        2977,  4934,  2062,  2354,  5455, 15020,  1424,  3273, 22040,\n",
       "        4416,  3908, 10566,   991,  4931,  1086,  7430,  6497,   114,\n",
       "        7896,  2346,  3418,  3432,  2907,  1151,  2414,  2290, 15831,\n",
       "       41310,  4508,  2538,  3456,  6418,  1848,  3887,  5721,  9562,\n",
       "        1455,  2036,  1831, 11678,  2936,  2993,  7443,  6360,  1797,\n",
       "        1173,  4687,  6723,  2009,  6097,  2653,  1639, 18481,  7978,\n",
       "        2387,  5060,  1264,  7262,  1731,  6612], dtype=int64)"
      ]
     },
     "execution_count": 30,
     "metadata": {},
     "output_type": "execute_result"
    }
   ],
   "source": [
    "df.capital_gain.unique()"
   ]
  },
  {
   "cell_type": "code",
   "execution_count": 31,
   "metadata": {},
   "outputs": [
    {
     "data": {
      "text/plain": [
       "array([   0, 2042, 1408, 1902, 1573, 1887, 1719, 1762, 1564, 2179, 1816,\n",
       "       1980, 1977, 1876, 1340, 2206, 1741, 1485, 2339, 2415, 1380, 1721,\n",
       "       2051, 2377, 1669, 2352, 1672,  653, 2392, 1504, 2001, 1590, 1651,\n",
       "       1628, 1848, 1740, 2002, 1579, 2258, 1602,  419, 2547, 2174, 2205,\n",
       "       1726, 2444, 1138, 2238,  625,  213, 1539,  880, 1668, 1092, 1594,\n",
       "       3004, 2231, 1844,  810, 2824, 2559, 2057, 1974,  974, 2149, 1825,\n",
       "       1735, 1258, 2129, 2603, 2282,  323, 4356, 2246, 1617, 1648, 2489,\n",
       "       3770, 1755, 3683, 2267, 2080, 2457,  155, 3900, 2201, 1944, 2467,\n",
       "       2163, 2754, 2472, 1411, 1429, 3175, 1510, 1870, 1911, 2465, 1421],\n",
       "      dtype=int64)"
      ]
     },
     "execution_count": 31,
     "metadata": {},
     "output_type": "execute_result"
    }
   ],
   "source": [
    "df.capital_loss.unique()"
   ]
  },
  {
   "cell_type": "code",
   "execution_count": 32,
   "metadata": {},
   "outputs": [
    {
     "data": {
      "text/plain": [
       "array([40, 13, 16, 45, 50, 80, 30, 35, 60, 20, 52, 44, 15, 25, 38, 43, 55,\n",
       "       48, 58, 32, 70,  2, 22, 56, 41, 28, 36, 24, 46, 42, 12, 65,  1, 10,\n",
       "       34, 75, 98, 33, 54,  8,  6, 64, 19, 18, 72,  5,  9, 47, 37, 21, 26,\n",
       "       14,  4, 59,  7, 99, 53, 39, 62, 57, 78, 90, 66, 11, 49, 84,  3, 17,\n",
       "       68, 27, 85, 31, 51, 77, 63, 23, 87, 88, 73, 89, 97, 94, 29, 96, 67,\n",
       "       82, 86, 91, 81, 76, 92, 61, 74, 95, 79, 69], dtype=int64)"
      ]
     },
     "execution_count": 32,
     "metadata": {},
     "output_type": "execute_result"
    }
   ],
   "source": [
    "df.hours_week.unique()"
   ]
  },
  {
   "cell_type": "code",
   "execution_count": 33,
   "metadata": {},
   "outputs": [
    {
     "data": {
      "text/plain": [
       "array([' United-States', ' Cuba', ' Jamaica', ' India', ' ?', ' Mexico',\n",
       "       ' South', ' Puerto-Rico', ' Honduras', ' England', ' Canada',\n",
       "       ' Germany', ' Iran', ' Philippines', ' Italy', ' Poland',\n",
       "       ' Columbia', ' Cambodia', ' Thailand', ' Ecuador', ' Laos',\n",
       "       ' Taiwan', ' Haiti', ' Portugal', ' Dominican-Republic',\n",
       "       ' El-Salvador', ' France', ' Guatemala', ' China', ' Japan',\n",
       "       ' Yugoslavia', ' Peru', ' Outlying-US(Guam-USVI-etc)', ' Scotland',\n",
       "       ' Trinadad&Tobago', ' Greece', ' Nicaragua', ' Vietnam', ' Hong',\n",
       "       ' Ireland', ' Hungary', ' Holand-Netherlands'], dtype=object)"
      ]
     },
     "execution_count": 33,
     "metadata": {},
     "output_type": "execute_result"
    }
   ],
   "source": [
    "df.country.unique()"
   ]
  },
  {
   "cell_type": "code",
   "execution_count": 34,
   "metadata": {
    "scrolled": true
   },
   "outputs": [
    {
     "data": {
      "text/plain": [
       "array([' <=50K', ' >50K', ' <=50K.', ' >50K.'], dtype=object)"
      ]
     },
     "execution_count": 34,
     "metadata": {},
     "output_type": "execute_result"
    }
   ],
   "source": [
    "df.classifier.unique()"
   ]
  },
  {
   "cell_type": "code",
   "execution_count": 7,
   "metadata": {
    "scrolled": true
   },
   "outputs": [
    {
     "data": {
      "text/plain": [
       "Index(['age', 'workclass', 'fnlwgt', 'education', 'edu-num', 'marital',\n",
       "       'occupation', 'relationship', 'race', 'sex', 'capital_gain',\n",
       "       'capital_loss', 'hours_week', 'country', 'classifier'],\n",
       "      dtype='object')"
      ]
     },
     "execution_count": 7,
     "metadata": {},
     "output_type": "execute_result"
    }
   ],
   "source": [
    "df.columns"
   ]
  },
  {
   "cell_type": "code",
   "execution_count": 9,
   "metadata": {
    "scrolled": true
   },
   "outputs": [
    {
     "data": {
      "text/plain": [
       "array([' State-gov', ' Self-emp-not-inc', ' Private', ' Federal-gov',\n",
       "       ' Local-gov', ' ?', ' Self-emp-inc', ' Without-pay',\n",
       "       ' Never-worked'], dtype=object)"
      ]
     },
     "execution_count": 9,
     "metadata": {},
     "output_type": "execute_result"
    }
   ],
   "source": [
    "df.workclass.unique()"
   ]
  },
  {
   "cell_type": "code",
   "execution_count": 6,
   "metadata": {},
   "outputs": [],
   "source": [
    "df.workclass=df.workclass.replace({' Without-pay':' Never-worked'})"
   ]
  },
  {
   "cell_type": "code",
   "execution_count": 7,
   "metadata": {},
   "outputs": [],
   "source": [
    "df.workclass=df.workclass.replace({' ?':'others'})"
   ]
  },
  {
   "cell_type": "code",
   "execution_count": 22,
   "metadata": {
    "scrolled": false
   },
   "outputs": [
    {
     "data": {
      "text/plain": [
       "array([' State-gov', ' Self-emp-not-inc', ' Private', ' Federal-gov',\n",
       "       ' Local-gov', 'others', ' Self-emp-inc', ' Never-worked'],\n",
       "      dtype=object)"
      ]
     },
     "execution_count": 22,
     "metadata": {},
     "output_type": "execute_result"
    }
   ],
   "source": [
    "df.workclass.unique()"
   ]
  },
  {
   "cell_type": "code",
   "execution_count": 81,
   "metadata": {},
   "outputs": [
    {
     "data": {
      "text/plain": [
       "(array([0, 1, 2, 3, 4, 5, 6, 7]), <a list of 8 Text major ticklabel objects>)"
      ]
     },
     "execution_count": 81,
     "metadata": {},
     "output_type": "execute_result"
    },
    {
     "data": {
      "image/png": "[encoded data removed]",
      "text/plain": [
       "<Figure size 720x576 with 1 Axes>"
      ]
     },
     "metadata": {
      "needs_background": "light"
     },
     "output_type": "display_data"
    }
   ],
   "source": [
    "import matplotlib.pyplot as plt\n",
    "import seaborn as sns\n",
    "plt.figure(figsize=(10,8))\n",
    "sns.countplot(df['workclass'])\n",
    "plt.xticks(rotation=60)"
   ]
  },
  {
   "cell_type": "code",
   "execution_count": 23,
   "metadata": {
    "scrolled": false
   },
   "outputs": [
    {
     "data": {
      "text/plain": [
       "array([' Bachelors', ' HS-grad', ' 11th', ' Masters', ' 9th',\n",
       "       ' Some-college', ' Assoc-acdm', ' Assoc-voc', ' 7th-8th',\n",
       "       ' Doctorate', ' Prof-school', ' 5th-6th', ' 10th', ' 1st-4th',\n",
       "       ' Preschool', ' 12th'], dtype=object)"
      ]
     },
     "execution_count": 23,
     "metadata": {},
     "output_type": "execute_result"
    }
   ],
   "source": [
    "df.education.unique()"
   ]
  },
  {
   "cell_type": "code",
   "execution_count": 83,
   "metadata": {},
   "outputs": [
    {
     "data": {
      "text/plain": [
       "array([' <=50K', ' >50K', ' <=50K.', ' >50K.'], dtype=object)"
      ]
     },
     "execution_count": 83,
     "metadata": {},
     "output_type": "execute_result"
    }
   ],
   "source": [
    "df.classifier.unique()"
   ]
  },
  {
   "cell_type": "code",
   "execution_count": 8,
   "metadata": {},
   "outputs": [],
   "source": [
    "df.classifier=df.classifier.replace({' <=50K':0,' <=50K.':0}   )  "
   ]
  },
  {
   "cell_type": "code",
   "execution_count": 11,
   "metadata": {},
   "outputs": [],
   "source": [
    "df.classifier=df.classifier.replace({' >50K':1,' >50K.':1}   )  "
   ]
  },
  {
   "cell_type": "code",
   "execution_count": 12,
   "metadata": {},
   "outputs": [
    {
     "data": {
      "text/plain": [
       "array([0, 1], dtype=int64)"
      ]
     },
     "execution_count": 12,
     "metadata": {},
     "output_type": "execute_result"
    }
   ],
   "source": [
    "df.classifier.unique()"
   ]
  },
  {
   "cell_type": "code",
   "execution_count": 13,
   "metadata": {},
   "outputs": [],
   "source": [
    "for i in df.education:\n",
    "    if i==' 11th':\n",
    "        df.education=df.education.replace({i:'high_school'})\n",
    "    if i==' 12th':\n",
    "        df.education=df.education.replace({i:'high_school'})\n",
    "    if i in [' 5th-6th' ,' 10th' , ' 1st-4th',' 7th-8th' ,' 9th']:\n",
    "        df.education=df.education.replace({i:' Preschool'})\n",
    "        "
   ]
  },
  {
   "cell_type": "code",
   "execution_count": 14,
   "metadata": {
    "scrolled": true
   },
   "outputs": [
    {
     "data": {
      "text/plain": [
       "array([' Bachelors', ' HS-grad', 'high_school', ' Masters', ' Preschool',\n",
       "       ' Some-college', ' Assoc-acdm', ' Assoc-voc', ' Doctorate',\n",
       "       ' Prof-school'], dtype=object)"
      ]
     },
     "execution_count": 14,
     "metadata": {},
     "output_type": "execute_result"
    }
   ],
   "source": [
    "df.education.unique()"
   ]
  },
  {
   "cell_type": "code",
   "execution_count": 15,
   "metadata": {},
   "outputs": [
    {
     "data": {
      "text/plain": [
       "Index(['age', 'workclass', 'fnlwgt', 'education', 'edu-num', 'marital',\n",
       "       'occupation', 'relationship', 'race', 'sex', 'capital_gain',\n",
       "       'capital_loss', 'hours_week', 'country', 'classifier'],\n",
       "      dtype='object')"
      ]
     },
     "execution_count": 15,
     "metadata": {},
     "output_type": "execute_result"
    }
   ],
   "source": [
    "df.columns"
   ]
  },
  {
   "cell_type": "code",
   "execution_count": 17,
   "metadata": {
    "scrolled": true
   },
   "outputs": [
    {
     "data": {
      "text/plain": [
       "array([' Never-married', ' Married-civ-spouse', ' Divorced',\n",
       "       ' Married-spouse-absent', ' Separated', ' Married-AF-spouse',\n",
       "       ' Widowed'], dtype=object)"
      ]
     },
     "execution_count": 17,
     "metadata": {},
     "output_type": "execute_result"
    }
   ],
   "source": [
    "df.marital.unique()"
   ]
  },
  {
   "cell_type": "code",
   "execution_count": 18,
   "metadata": {
    "scrolled": true
   },
   "outputs": [
    {
     "data": {
      "text/plain": [
       "array([' Adm-clerical', ' Exec-managerial', ' Handlers-cleaners',\n",
       "       ' Prof-specialty', ' Other-service', ' Sales', ' Craft-repair',\n",
       "       ' Transport-moving', ' Farming-fishing', ' Machine-op-inspct',\n",
       "       ' Tech-support', ' ?', ' Protective-serv', ' Armed-Forces',\n",
       "       ' Priv-house-serv'], dtype=object)"
      ]
     },
     "execution_count": 18,
     "metadata": {},
     "output_type": "execute_result"
    }
   ],
   "source": [
    "df.occupation.unique()"
   ]
  },
  {
   "cell_type": "code",
   "execution_count": 20,
   "metadata": {},
   "outputs": [],
   "source": [
    "df.occupation=df.occupation.replace({' ?':'others'})"
   ]
  },
  {
   "cell_type": "code",
   "execution_count": 21,
   "metadata": {
    "scrolled": false
   },
   "outputs": [
    {
     "data": {
      "text/plain": [
       "array([' Adm-clerical', ' Exec-managerial', ' Handlers-cleaners',\n",
       "       ' Prof-specialty', ' Other-service', ' Sales', ' Craft-repair',\n",
       "       ' Transport-moving', ' Farming-fishing', ' Machine-op-inspct',\n",
       "       ' Tech-support', 'others', ' Protective-serv', ' Armed-Forces',\n",
       "       ' Priv-house-serv'], dtype=object)"
      ]
     },
     "execution_count": 21,
     "metadata": {},
     "output_type": "execute_result"
    }
   ],
   "source": [
    "df.occupation.unique()"
   ]
  },
  {
   "cell_type": "code",
   "execution_count": 25,
   "metadata": {
    "scrolled": true
   },
   "outputs": [
    {
     "data": {
      "text/plain": [
       "array([' United-States', ' Cuba', ' Jamaica', ' India', ' ?', ' Mexico',\n",
       "       ' South', ' Puerto-Rico', ' Honduras', ' England', ' Canada',\n",
       "       ' Germany', ' Iran', ' Philippines', ' Italy', ' Poland',\n",
       "       ' Columbia', ' Cambodia', ' Thailand', ' Ecuador', ' Laos',\n",
       "       ' Taiwan', ' Haiti', ' Portugal', ' Dominican-Republic',\n",
       "       ' El-Salvador', ' France', ' Guatemala', ' China', ' Japan',\n",
       "       ' Yugoslavia', ' Peru', ' Outlying-US(Guam-USVI-etc)', ' Scotland',\n",
       "       ' Trinadad&Tobago', ' Greece', ' Nicaragua', ' Vietnam', ' Hong',\n",
       "       ' Ireland', ' Hungary', ' Holand-Netherlands'], dtype=object)"
      ]
     },
     "execution_count": 25,
     "metadata": {},
     "output_type": "execute_result"
    }
   ],
   "source": [
    "df.country.unique()"
   ]
  },
  {
   "cell_type": "code",
   "execution_count": 26,
   "metadata": {},
   "outputs": [],
   "source": [
    "df.country = df.country.str.lstrip()"
   ]
  },
  {
   "cell_type": "code",
   "execution_count": 27,
   "metadata": {
    "scrolled": true
   },
   "outputs": [
    {
     "data": {
      "text/plain": [
       "array(['United-States', 'Cuba', 'Jamaica', 'India', '?', 'Mexico',\n",
       "       'South', 'Puerto-Rico', 'Honduras', 'England', 'Canada', 'Germany',\n",
       "       'Iran', 'Philippines', 'Italy', 'Poland', 'Columbia', 'Cambodia',\n",
       "       'Thailand', 'Ecuador', 'Laos', 'Taiwan', 'Haiti', 'Portugal',\n",
       "       'Dominican-Republic', 'El-Salvador', 'France', 'Guatemala',\n",
       "       'China', 'Japan', 'Yugoslavia', 'Peru',\n",
       "       'Outlying-US(Guam-USVI-etc)', 'Scotland', 'Trinadad&Tobago',\n",
       "       'Greece', 'Nicaragua', 'Vietnam', 'Hong', 'Ireland', 'Hungary',\n",
       "       'Holand-Netherlands'], dtype=object)"
      ]
     },
     "execution_count": 27,
     "metadata": {},
     "output_type": "execute_result"
    }
   ],
   "source": [
    "df.country.unique()"
   ]
  },
  {
   "cell_type": "code",
   "execution_count": 32,
   "metadata": {},
   "outputs": [],
   "source": [
    "def native(country):\n",
    "    if country in ['United-States','Canada']:\n",
    "        return 'North_America'\n",
    "    elif country in ['Puerto-Rico','El-Salvador','Cuba','Jamaica','Dominican-Republic','Guatemala','Haiti','Nicaragua','Trinadad&Tobago','Honduras']:\n",
    "        return 'Central_America' \n",
    "    elif country in ['Mexico','Columbia','Vietnam','Peru','Ecuador','South','Outlying-US(Guam-USVI-etc)']:\n",
    "        return 'South_America'\n",
    "    elif country in ['Germany','England','Italy','Poland','Portugal','Greece','Yugoslavia','France','Ireland','Scotland','Hungary','Holand-Netherlands']:\n",
    "        return 'EU'\n",
    "    elif country in ['India','Iran','China','Japan','Thailand','Hong','Cambodia','Laos','Philippines','Taiwan']:\n",
    "        return 'Asian'\n",
    "    else:\n",
    "        return country"
   ]
  },
  {
   "cell_type": "code",
   "execution_count": 33,
   "metadata": {},
   "outputs": [],
   "source": [
    "df['country'] = df['country'].apply(native)"
   ]
  },
  {
   "cell_type": "code",
   "execution_count": 34,
   "metadata": {
    "scrolled": true
   },
   "outputs": [
    {
     "data": {
      "text/plain": [
       "array(['North_America', 'Central_America', 'Asian', '?', 'South_America',\n",
       "       'EU'], dtype=object)"
      ]
     },
     "execution_count": 34,
     "metadata": {},
     "output_type": "execute_result"
    }
   ],
   "source": [
    "df.country.unique()"
   ]
  },
  {
   "cell_type": "code",
   "execution_count": 37,
   "metadata": {},
   "outputs": [],
   "source": [
    "df.country=df.country.replace({'?':'others'})"
   ]
  },
  {
   "cell_type": "code",
   "execution_count": 38,
   "metadata": {
    "scrolled": true
   },
   "outputs": [
    {
     "data": {
      "text/plain": [
       "array(['North_America', 'Central_America', 'Asian', 'others',\n",
       "       'South_America', 'EU'], dtype=object)"
      ]
     },
     "execution_count": 38,
     "metadata": {},
     "output_type": "execute_result"
    }
   ],
   "source": [
    "df.country.unique()"
   ]
  },
  {
   "cell_type": "code",
   "execution_count": 39,
   "metadata": {
    "scrolled": true
   },
   "outputs": [
    {
     "data": {
      "text/html": [
       "<div>\n",
       "<style scoped>\n",
       "    .dataframe tbody tr th:only-of-type {\n",
       "        vertical-align: middle;\n",
       "    }\n",
       "\n",
       "    .dataframe tbody tr th {\n",
       "        vertical-align: top;\n",
       "    }\n",
       "\n",
       "    .dataframe thead th {\n",
       "        text-align: right;\n",
       "    }\n",
       "</style>\n",
       "<table border=\"1\" class=\"dataframe\">\n",
       "  <thead>\n",
       "    <tr style=\"text-align: right;\">\n",
       "      <th></th>\n",
       "      <th>age</th>\n",
       "      <th>workclass</th>\n",
       "      <th>fnlwgt</th>\n",
       "      <th>education</th>\n",
       "      <th>edu-num</th>\n",
       "      <th>marital</th>\n",
       "      <th>occupation</th>\n",
       "      <th>relationship</th>\n",
       "      <th>race</th>\n",
       "      <th>sex</th>\n",
       "      <th>capital_gain</th>\n",
       "      <th>capital_loss</th>\n",
       "      <th>hours_week</th>\n",
       "      <th>country</th>\n",
       "      <th>classifier</th>\n",
       "    </tr>\n",
       "  </thead>\n",
       "  <tbody>\n",
       "    <tr>\n",
       "      <th>0</th>\n",
       "      <td>39</td>\n",
       "      <td>State-gov</td>\n",
       "      <td>77516</td>\n",
       "      <td>Bachelors</td>\n",
       "      <td>13</td>\n",
       "      <td>Never-married</td>\n",
       "      <td>Adm-clerical</td>\n",
       "      <td>Not-in-family</td>\n",
       "      <td>White</td>\n",
       "      <td>Male</td>\n",
       "      <td>2174</td>\n",
       "      <td>0</td>\n",
       "      <td>40</td>\n",
       "      <td>North_America</td>\n",
       "      <td>0</td>\n",
       "    </tr>\n",
       "    <tr>\n",
       "      <th>1</th>\n",
       "      <td>50</td>\n",
       "      <td>Self-emp-not-inc</td>\n",
       "      <td>83311</td>\n",
       "      <td>Bachelors</td>\n",
       "      <td>13</td>\n",
       "      <td>Married-civ-spouse</td>\n",
       "      <td>Exec-managerial</td>\n",
       "      <td>Husband</td>\n",
       "      <td>White</td>\n",
       "      <td>Male</td>\n",
       "      <td>0</td>\n",
       "      <td>0</td>\n",
       "      <td>13</td>\n",
       "      <td>North_America</td>\n",
       "      <td>0</td>\n",
       "    </tr>\n",
       "    <tr>\n",
       "      <th>2</th>\n",
       "      <td>38</td>\n",
       "      <td>Private</td>\n",
       "      <td>215646</td>\n",
       "      <td>HS-grad</td>\n",
       "      <td>9</td>\n",
       "      <td>Divorced</td>\n",
       "      <td>Handlers-cleaners</td>\n",
       "      <td>Not-in-family</td>\n",
       "      <td>White</td>\n",
       "      <td>Male</td>\n",
       "      <td>0</td>\n",
       "      <td>0</td>\n",
       "      <td>40</td>\n",
       "      <td>North_America</td>\n",
       "      <td>0</td>\n",
       "    </tr>\n",
       "    <tr>\n",
       "      <th>3</th>\n",
       "      <td>53</td>\n",
       "      <td>Private</td>\n",
       "      <td>234721</td>\n",
       "      <td>high_school</td>\n",
       "      <td>7</td>\n",
       "      <td>Married-civ-spouse</td>\n",
       "      <td>Handlers-cleaners</td>\n",
       "      <td>Husband</td>\n",
       "      <td>Black</td>\n",
       "      <td>Male</td>\n",
       "      <td>0</td>\n",
       "      <td>0</td>\n",
       "      <td>40</td>\n",
       "      <td>North_America</td>\n",
       "      <td>0</td>\n",
       "    </tr>\n",
       "    <tr>\n",
       "      <th>4</th>\n",
       "      <td>28</td>\n",
       "      <td>Private</td>\n",
       "      <td>338409</td>\n",
       "      <td>Bachelors</td>\n",
       "      <td>13</td>\n",
       "      <td>Married-civ-spouse</td>\n",
       "      <td>Prof-specialty</td>\n",
       "      <td>Wife</td>\n",
       "      <td>Black</td>\n",
       "      <td>Female</td>\n",
       "      <td>0</td>\n",
       "      <td>0</td>\n",
       "      <td>40</td>\n",
       "      <td>Central_America</td>\n",
       "      <td>0</td>\n",
       "    </tr>\n",
       "  </tbody>\n",
       "</table>\n",
       "</div>"
      ],
      "text/plain": [
       "   age          workclass  fnlwgt    education  edu-num              marital  \\\n",
       "0   39          State-gov   77516    Bachelors       13        Never-married   \n",
       "1   50   Self-emp-not-inc   83311    Bachelors       13   Married-civ-spouse   \n",
       "2   38            Private  215646      HS-grad        9             Divorced   \n",
       "3   53            Private  234721  high_school        7   Married-civ-spouse   \n",
       "4   28            Private  338409    Bachelors       13   Married-civ-spouse   \n",
       "\n",
       "           occupation    relationship    race      sex  capital_gain  \\\n",
       "0        Adm-clerical   Not-in-family   White     Male          2174   \n",
       "1     Exec-managerial         Husband   White     Male             0   \n",
       "2   Handlers-cleaners   Not-in-family   White     Male             0   \n",
       "3   Handlers-cleaners         Husband   Black     Male             0   \n",
       "4      Prof-specialty            Wife   Black   Female             0   \n",
       "\n",
       "   capital_loss  hours_week          country  classifier  \n",
       "0             0          40    North_America           0  \n",
       "1             0          13    North_America           0  \n",
       "2             0          40    North_America           0  \n",
       "3             0          40    North_America           0  \n",
       "4             0          40  Central_America           0  "
      ]
     },
     "execution_count": 39,
     "metadata": {},
     "output_type": "execute_result"
    }
   ],
   "source": [
    "df.head()"
   ]
  },
  {
   "cell_type": "code",
   "execution_count": 81,
   "metadata": {},
   "outputs": [],
   "source": [
    "X=df.drop('classifier',axis=1)\n",
    "y=df['classifier']"
   ]
  },
  {
   "cell_type": "code",
   "execution_count": 89,
   "metadata": {},
   "outputs": [
    {
     "data": {
      "text/plain": [
       "0        0\n",
       "1        0\n",
       "2        0\n",
       "3        0\n",
       "4        0\n",
       "        ..\n",
       "16276    0\n",
       "16277    0\n",
       "16278    0\n",
       "16279    0\n",
       "16280    1\n",
       "Name: classifier, Length: 48842, dtype: int64"
      ]
     },
     "execution_count": 89,
     "metadata": {},
     "output_type": "execute_result"
    }
   ],
   "source": [
    "y"
   ]
  },
  {
   "cell_type": "code",
   "execution_count": 82,
   "metadata": {},
   "outputs": [],
   "source": [
    "X_new=pd.get_dummies(X)"
   ]
  },
  {
   "cell_type": "code",
   "execution_count": 83,
   "metadata": {},
   "outputs": [],
   "source": [
    "from sklearn.model_selection import train_test_split"
   ]
  },
  {
   "cell_type": "code",
   "execution_count": 90,
   "metadata": {},
   "outputs": [],
   "source": [
    "x_train,x_test,y_train,y_test=train_test_split(X_new,y,random_state=101,test_size=0.3)"
   ]
  },
  {
   "cell_type": "code",
   "execution_count": 91,
   "metadata": {
    "scrolled": true
   },
   "outputs": [
    {
     "data": {
      "text/plain": [
       "(34189, 65)"
      ]
     },
     "execution_count": 91,
     "metadata": {},
     "output_type": "execute_result"
    }
   ],
   "source": [
    "x_train.shape"
   ]
  },
  {
   "cell_type": "code",
   "execution_count": 92,
   "metadata": {},
   "outputs": [
    {
     "data": {
      "text/plain": [
       "(34189,)"
      ]
     },
     "execution_count": 92,
     "metadata": {},
     "output_type": "execute_result"
    }
   ],
   "source": [
    "y_train.shape"
   ]
  },
  {
   "cell_type": "code",
   "execution_count": 64,
   "metadata": {},
   "outputs": [],
   "source": [
    "from sklearn.linear_model import LogisticRegression"
   ]
  },
  {
   "cell_type": "code",
   "execution_count": 65,
   "metadata": {},
   "outputs": [],
   "source": [
    "lr=LogisticRegression()"
   ]
  },
  {
   "cell_type": "code",
   "execution_count": 93,
   "metadata": {},
   "outputs": [
    {
     "data": {
      "text/plain": [
       "LogisticRegression()"
      ]
     },
     "execution_count": 93,
     "metadata": {},
     "output_type": "execute_result"
    }
   ],
   "source": [
    "lr.fit(x_train,y_train)"
   ]
  },
  {
   "cell_type": "code",
   "execution_count": 94,
   "metadata": {},
   "outputs": [
    {
     "data": {
      "text/plain": [
       "0.798206461651857"
      ]
     },
     "execution_count": 94,
     "metadata": {},
     "output_type": "execute_result"
    }
   ],
   "source": [
    "lr.score(X_new,y)"
   ]
  },
  {
   "cell_type": "code",
   "execution_count": 95,
   "metadata": {},
   "outputs": [
    {
     "data": {
      "text/plain": [
       "0.7984439439585832"
      ]
     },
     "execution_count": 95,
     "metadata": {},
     "output_type": "execute_result"
    }
   ],
   "source": [
    "lr.score(x_train,y_train)"
   ]
  },
  {
   "cell_type": "code",
   "execution_count": 96,
   "metadata": {
    "scrolled": true
   },
   "outputs": [
    {
     "data": {
      "text/plain": [
       "0.7976523578789326"
      ]
     },
     "execution_count": 96,
     "metadata": {},
     "output_type": "execute_result"
    }
   ],
   "source": [
    "lr.score(x_test,y_test)"
   ]
  },
  {
   "cell_type": "code",
   "execution_count": 97,
   "metadata": {},
   "outputs": [],
   "source": [
    "penalty = ['l1', 'l2']\n",
    "# C is the inverese of regularization parameter\n",
    "C = np.logspace(0, 4, 10)\n",
    "random_state=[0]\n",
    "# creating a dictionary of hyperparameters\n",
    "hyperparameters = dict(C=C, penalty=penalty, \n",
    "                  random_state=random_state)"
   ]
  },
  {
   "cell_type": "code",
   "execution_count": 99,
   "metadata": {
    "scrolled": true
   },
   "outputs": [
    {
     "name": "stdout",
     "output_type": "stream",
     "text": [
      "Fitting 5 folds for each of 20 candidates, totalling 100 fits\n"
     ]
    },
    {
     "name": "stderr",
     "output_type": "stream",
     "text": [
      "[Parallel(n_jobs=-1)]: Using backend LokyBackend with 6 concurrent workers.\n",
      "[Parallel(n_jobs=-1)]: Done  20 tasks      | elapsed:    3.3s\n",
      "[Parallel(n_jobs=-1)]: Done 100 out of 100 | elapsed:    8.8s finished\n"
     ]
    },
    {
     "data": {
      "text/plain": [
       "GridSearchCV(cv=5, estimator=LogisticRegression(), n_jobs=-1,\n",
       "             param_grid={'C': array([1.00000000e+00, 2.78255940e+00, 7.74263683e+00, 2.15443469e+01,\n",
       "       5.99484250e+01, 1.66810054e+02, 4.64158883e+02, 1.29154967e+03,\n",
       "       3.59381366e+03, 1.00000000e+04]),\n",
       "                         'penalty': ['l1', 'l2'], 'random_state': [0]},\n",
       "             verbose=3)"
      ]
     },
     "execution_count": 99,
     "metadata": {},
     "output_type": "execute_result"
    }
   ],
   "source": [
    "from sklearn.model_selection import GridSearchCV\n",
    "gsv = GridSearchCV(lr,param_grid=hyperparameters,cv=5,verbose=3,n_jobs=-1)\n",
    "gsv.fit(x_train,y_train)"
   ]
  },
  {
   "cell_type": "code",
   "execution_count": 100,
   "metadata": {},
   "outputs": [
    {
     "data": {
      "text/plain": [
       "{'C': 1.0, 'penalty': 'l2', 'random_state': 0}"
      ]
     },
     "execution_count": 100,
     "metadata": {},
     "output_type": "execute_result"
    }
   ],
   "source": [
    "\n",
    "gsv.best_params_"
   ]
  },
  {
   "cell_type": "code",
   "execution_count": 101,
   "metadata": {},
   "outputs": [],
   "source": [
    "lr_tuned = LogisticRegression(C=1.0,penalty='l2',random_state=0)"
   ]
  },
  {
   "cell_type": "code",
   "execution_count": 102,
   "metadata": {},
   "outputs": [
    {
     "data": {
      "text/plain": [
       "LogisticRegression(random_state=0)"
      ]
     },
     "execution_count": 102,
     "metadata": {},
     "output_type": "execute_result"
    }
   ],
   "source": [
    "lr_tuned.fit(x_train,y_train)"
   ]
  },
  {
   "cell_type": "code",
   "execution_count": 105,
   "metadata": {},
   "outputs": [
    {
     "data": {
      "text/plain": [
       "0.7984439439585832"
      ]
     },
     "execution_count": 105,
     "metadata": {},
     "output_type": "execute_result"
    }
   ],
   "source": [
    "lr_tuned.score(x_train,y_train)"
   ]
  },
  {
   "cell_type": "code",
   "execution_count": 106,
   "metadata": {},
   "outputs": [],
   "source": [
    "Log=lr_tuned.score(x_test,y_test)"
   ]
  },
  {
   "cell_type": "code",
   "execution_count": 109,
   "metadata": {},
   "outputs": [],
   "source": [
    "lr_pred=lr_tuned.predict(x_test)"
   ]
  },
  {
   "cell_type": "code",
   "execution_count": 110,
   "metadata": {},
   "outputs": [
    {
     "name": "stdout",
     "output_type": "stream",
     "text": [
      "Accuracy_Score:0.7976523578789326\n",
      "**************************************************\n",
      "Classification_Report:              precision    recall  f1-score   support\n",
      "\n",
      "           0       0.80      0.97      0.88     11100\n",
      "           1       0.73      0.27      0.39      3553\n",
      "\n",
      "    accuracy                           0.80     14653\n",
      "   macro avg       0.76      0.62      0.63     14653\n",
      "weighted avg       0.79      0.80      0.76     14653\n",
      "\n",
      "**************************************************\n",
      "Confusion_Matrix:[[10741   359]\n",
      " [ 2606   947]]\n"
     ]
    }
   ],
   "source": [
    "from sklearn.metrics import accuracy_score,classification_report,confusion_matrix,auc\n",
    "print(f\"Accuracy_Score:{accuracy_score(y_test,lr_pred)}\")\n",
    "print('*'*50)\n",
    "print(f\"Classification_Report:{classification_report(y_test,lr_pred)}\")\n",
    "print('*'*50)\n",
    "print(f\"Confusion_Matrix:{confusion_matrix(y_test,lr_pred)}\")"
   ]
  },
  {
   "cell_type": "code",
   "execution_count": 111,
   "metadata": {},
   "outputs": [
    {
     "data": {
      "text/plain": [
       "DecisionTreeClassifier()"
      ]
     },
     "execution_count": 111,
     "metadata": {},
     "output_type": "execute_result"
    }
   ],
   "source": [
    "from sklearn.tree import DecisionTreeClassifier\n",
    "dtc = DecisionTreeClassifier()\n",
    "dtc.fit(x_train,y_train)"
   ]
  },
  {
   "cell_type": "code",
   "execution_count": 112,
   "metadata": {},
   "outputs": [],
   "source": [
    "grid_param = {\n",
    "    'criterion': ['gini', 'entropy'],\n",
    "    'max_depth' : range(2,20,2),\n",
    "    'min_samples_leaf' : range(1,10,1),\n",
    "    'min_samples_split': range(2,10,1),\n",
    "    'splitter' : ['best', 'random']\n",
    "    \n",
    "}"
   ]
  },
  {
   "cell_type": "code",
   "execution_count": 113,
   "metadata": {
    "scrolled": true
   },
   "outputs": [
    {
     "name": "stdout",
     "output_type": "stream",
     "text": [
      "Fitting 5 folds for each of 2592 candidates, totalling 12960 fits\n"
     ]
    },
    {
     "name": "stderr",
     "output_type": "stream",
     "text": [
      "[Parallel(n_jobs=-1)]: Using backend LokyBackend with 6 concurrent workers.\n",
      "[Parallel(n_jobs=-1)]: Done  20 tasks      | elapsed:    3.9s\n",
      "[Parallel(n_jobs=-1)]: Done 116 tasks      | elapsed:    5.9s\n",
      "[Parallel(n_jobs=-1)]: Done 276 tasks      | elapsed:    9.1s\n",
      "[Parallel(n_jobs=-1)]: Done 652 tasks      | elapsed:   15.0s\n",
      "[Parallel(n_jobs=-1)]: Done 1228 tasks      | elapsed:   26.9s\n",
      "[Parallel(n_jobs=-1)]: Done 1932 tasks      | elapsed:   45.2s\n",
      "[Parallel(n_jobs=-1)]: Done 2764 tasks      | elapsed:  1.2min\n",
      "[Parallel(n_jobs=-1)]: Done 3724 tasks      | elapsed:  1.8min\n",
      "[Parallel(n_jobs=-1)]: Done 4812 tasks      | elapsed:  2.7min\n",
      "[Parallel(n_jobs=-1)]: Done 6028 tasks      | elapsed:  3.8min\n",
      "[Parallel(n_jobs=-1)]: Done 7372 tasks      | elapsed:  4.4min\n",
      "[Parallel(n_jobs=-1)]: Done 8844 tasks      | elapsed:  5.1min\n",
      "[Parallel(n_jobs=-1)]: Done 10444 tasks      | elapsed:  6.1min\n",
      "[Parallel(n_jobs=-1)]: Done 12172 tasks      | elapsed:  7.6min\n",
      "[Parallel(n_jobs=-1)]: Done 12960 out of 12960 | elapsed:  8.3min finished\n"
     ]
    },
    {
     "data": {
      "text/plain": [
       "GridSearchCV(cv=5, estimator=DecisionTreeClassifier(), n_jobs=-1,\n",
       "             param_grid={'criterion': ['gini', 'entropy'],\n",
       "                         'max_depth': range(2, 20, 2),\n",
       "                         'min_samples_leaf': range(1, 10),\n",
       "                         'min_samples_split': range(2, 10),\n",
       "                         'splitter': ['best', 'random']},\n",
       "             verbose=3)"
      ]
     },
     "execution_count": 113,
     "metadata": {},
     "output_type": "execute_result"
    }
   ],
   "source": [
    "gsv = GridSearchCV(dtc,param_grid=grid_param,cv=5,verbose=3,n_jobs=-1)\n",
    "gsv.fit(x_train,y_train)"
   ]
  },
  {
   "cell_type": "code",
   "execution_count": 114,
   "metadata": {},
   "outputs": [
    {
     "data": {
      "text/plain": [
       "{'criterion': 'gini',\n",
       " 'max_depth': 10,\n",
       " 'min_samples_leaf': 3,\n",
       " 'min_samples_split': 8,\n",
       " 'splitter': 'best'}"
      ]
     },
     "execution_count": 114,
     "metadata": {},
     "output_type": "execute_result"
    }
   ],
   "source": [
    "gsv.best_params_"
   ]
  },
  {
   "cell_type": "code",
   "execution_count": 115,
   "metadata": {},
   "outputs": [],
   "source": [
    "dtc_tuned = DecisionTreeClassifier(criterion='gini',max_depth=10,min_samples_leaf=3,min_samples_split=8,splitter='best')"
   ]
  },
  {
   "cell_type": "code",
   "execution_count": 116,
   "metadata": {},
   "outputs": [
    {
     "data": {
      "text/plain": [
       "DecisionTreeClassifier(max_depth=10, min_samples_leaf=3, min_samples_split=8)"
      ]
     },
     "execution_count": 116,
     "metadata": {},
     "output_type": "execute_result"
    }
   ],
   "source": [
    "dtc_tuned.fit(x_train,y_train)"
   ]
  },
  {
   "cell_type": "code",
   "execution_count": 117,
   "metadata": {},
   "outputs": [],
   "source": [
    "Dtc = dtc_tuned.score(x_test,y_test)"
   ]
  },
  {
   "cell_type": "code",
   "execution_count": 118,
   "metadata": {},
   "outputs": [],
   "source": [
    "dtc_y_pred = dtc_tuned.predict(x_test)"
   ]
  },
  {
   "cell_type": "code",
   "execution_count": 119,
   "metadata": {},
   "outputs": [
    {
     "name": "stdout",
     "output_type": "stream",
     "text": [
      "Accuracy_Score:0.8571623558315703\n",
      "**************************************************\n",
      "Classification_Report:              precision    recall  f1-score   support\n",
      "\n",
      "           0       0.88      0.94      0.91     11100\n",
      "           1       0.77      0.59      0.67      3553\n",
      "\n",
      "    accuracy                           0.86     14653\n",
      "   macro avg       0.82      0.77      0.79     14653\n",
      "weighted avg       0.85      0.86      0.85     14653\n",
      "\n",
      "**************************************************\n",
      "Confusion_Matrix:[[10464   636]\n",
      " [ 1457  2096]]\n"
     ]
    }
   ],
   "source": [
    "print(f\"Accuracy_Score:{accuracy_score(y_test,dtc_y_pred)}\")\n",
    "print('*'*50)\n",
    "print(f\"Classification_Report:{classification_report(y_test,dtc_y_pred)}\")\n",
    "print('*'*50)\n",
    "print(f\"Confusion_Matrix:{confusion_matrix(y_test,dtc_y_pred)}\")"
   ]
  },
  {
   "cell_type": "code",
   "execution_count": 120,
   "metadata": {},
   "outputs": [
    {
     "data": {
      "text/plain": [
       "0.8571623558315703"
      ]
     },
     "execution_count": 120,
     "metadata": {},
     "output_type": "execute_result"
    }
   ],
   "source": [
    "Dtc"
   ]
  },
  {
   "cell_type": "code",
   "execution_count": 122,
   "metadata": {},
   "outputs": [
    {
     "data": {
      "text/plain": [
       "RandomForestClassifier()"
      ]
     },
     "execution_count": 122,
     "metadata": {},
     "output_type": "execute_result"
    }
   ],
   "source": [
    "from sklearn.ensemble import RandomForestClassifier\n",
    "rfc = RandomForestClassifier()\n",
    "rfc.fit(x_train,y_train)"
   ]
  },
  {
   "cell_type": "code",
   "execution_count": 123,
   "metadata": {},
   "outputs": [],
   "source": [
    "\n",
    "grid_params = {\"n_estimators\" : [10,15,25,30],\n",
    "              \"max_depth\" : range(1,10,2),\n",
    "              \"min_samples_leaf\" : range(1,10,1),\n",
    "              \"min_samples_split\" : range(2,10,1),\n",
    "              \"max_features\" : ['auto','log2']\n",
    "              }"
   ]
  },
  {
   "cell_type": "code",
   "execution_count": 124,
   "metadata": {},
   "outputs": [
    {
     "name": "stdout",
     "output_type": "stream",
     "text": [
      "Fitting 5 folds for each of 2880 candidates, totalling 14400 fits\n"
     ]
    },
    {
     "name": "stderr",
     "output_type": "stream",
     "text": [
      "[Parallel(n_jobs=-1)]: Using backend LokyBackend with 6 concurrent workers.\n",
      "[Parallel(n_jobs=-1)]: Done  20 tasks      | elapsed:    1.0s\n",
      "[Parallel(n_jobs=-1)]: Done 116 tasks      | elapsed:    4.5s\n",
      "[Parallel(n_jobs=-1)]: Done 276 tasks      | elapsed:   10.3s\n",
      "[Parallel(n_jobs=-1)]: Done 500 tasks      | elapsed:   16.7s\n",
      "[Parallel(n_jobs=-1)]: Done 788 tasks      | elapsed:   24.8s\n",
      "[Parallel(n_jobs=-1)]: Done 1140 tasks      | elapsed:   34.9s\n",
      "[Parallel(n_jobs=-1)]: Done 1556 tasks      | elapsed:   46.5s\n",
      "[Parallel(n_jobs=-1)]: Done 2036 tasks      | elapsed:   59.7s\n",
      "[Parallel(n_jobs=-1)]: Done 2580 tasks      | elapsed:  1.2min\n",
      "[Parallel(n_jobs=-1)]: Done 3188 tasks      | elapsed:  1.6min\n",
      "[Parallel(n_jobs=-1)]: Done 3860 tasks      | elapsed:  2.1min\n",
      "[Parallel(n_jobs=-1)]: Done 4596 tasks      | elapsed:  2.6min\n",
      "[Parallel(n_jobs=-1)]: Done 5396 tasks      | elapsed:  3.1min\n",
      "[Parallel(n_jobs=-1)]: Done 6260 tasks      | elapsed:  3.8min\n",
      "[Parallel(n_jobs=-1)]: Done 7188 tasks      | elapsed:  4.7min\n",
      "[Parallel(n_jobs=-1)]: Done 8180 tasks      | elapsed:  5.5min\n",
      "[Parallel(n_jobs=-1)]: Done 9236 tasks      | elapsed:  6.6min\n",
      "[Parallel(n_jobs=-1)]: Done 10356 tasks      | elapsed:  8.0min\n",
      "[Parallel(n_jobs=-1)]: Done 11540 tasks      | elapsed:  9.2min\n",
      "[Parallel(n_jobs=-1)]: Done 12788 tasks      | elapsed: 11.1min\n",
      "[Parallel(n_jobs=-1)]: Done 14100 tasks      | elapsed: 12.9min\n",
      "[Parallel(n_jobs=-1)]: Done 14400 out of 14400 | elapsed: 13.2min finished\n"
     ]
    },
    {
     "data": {
      "text/plain": [
       "GridSearchCV(cv=5, estimator=RandomForestClassifier(), n_jobs=-1,\n",
       "             param_grid={'max_depth': range(1, 10, 2),\n",
       "                         'max_features': ['auto', 'log2'],\n",
       "                         'min_samples_leaf': range(1, 10),\n",
       "                         'min_samples_split': range(2, 10),\n",
       "                         'n_estimators': [10, 15, 25, 30]},\n",
       "             verbose=3)"
      ]
     },
     "execution_count": 124,
     "metadata": {},
     "output_type": "execute_result"
    }
   ],
   "source": [
    "gsv = GridSearchCV(rfc,param_grid=grid_params,cv=5,n_jobs=-1,verbose=3)\n",
    "gsv.fit(x_train,y_train)"
   ]
  },
  {
   "cell_type": "code",
   "execution_count": 126,
   "metadata": {},
   "outputs": [
    {
     "data": {
      "text/plain": [
       "{'max_depth': 9,\n",
       " 'max_features': 'auto',\n",
       " 'min_samples_leaf': 5,\n",
       " 'min_samples_split': 9,\n",
       " 'n_estimators': 30}"
      ]
     },
     "execution_count": 126,
     "metadata": {},
     "output_type": "execute_result"
    }
   ],
   "source": [
    "gsv.best_params_"
   ]
  },
  {
   "cell_type": "code",
   "execution_count": 127,
   "metadata": {},
   "outputs": [],
   "source": [
    "rfc_tuned = RandomForestClassifier(max_depth=9,max_features='auto',min_samples_leaf=5,min_samples_split=9,n_estimators=30)"
   ]
  },
  {
   "cell_type": "code",
   "execution_count": 128,
   "metadata": {},
   "outputs": [
    {
     "data": {
      "text/plain": [
       "RandomForestClassifier(max_depth=9, min_samples_leaf=5, min_samples_split=9,\n",
       "                       n_estimators=30)"
      ]
     },
     "execution_count": 128,
     "metadata": {},
     "output_type": "execute_result"
    }
   ],
   "source": [
    "rfc_tuned.fit(x_train,y_train)"
   ]
  },
  {
   "cell_type": "code",
   "execution_count": 129,
   "metadata": {},
   "outputs": [],
   "source": [
    "RFC = rfc_tuned.score(x_test,y_test)"
   ]
  },
  {
   "cell_type": "code",
   "execution_count": 131,
   "metadata": {},
   "outputs": [
    {
     "data": {
      "text/plain": [
       "0.8514297413498942"
      ]
     },
     "execution_count": 131,
     "metadata": {},
     "output_type": "execute_result"
    }
   ],
   "source": [
    "RFC"
   ]
  },
  {
   "cell_type": "code",
   "execution_count": 134,
   "metadata": {},
   "outputs": [
    {
     "data": {
      "text/plain": [
       "0.8598672087513528"
      ]
     },
     "execution_count": 134,
     "metadata": {},
     "output_type": "execute_result"
    }
   ],
   "source": [
    "rfc_tuned.score(x_train,y_train)"
   ]
  },
  {
   "cell_type": "code",
   "execution_count": 132,
   "metadata": {},
   "outputs": [],
   "source": [
    "rfc_y_pred = rfc_tuned.predict(x_test)"
   ]
  },
  {
   "cell_type": "code",
   "execution_count": 133,
   "metadata": {
    "scrolled": true
   },
   "outputs": [
    {
     "name": "stdout",
     "output_type": "stream",
     "text": [
      "Accuracy_Score:0.8514297413498942\n",
      "**************************************************\n",
      "Classification_Report:              precision    recall  f1-score   support\n",
      "\n",
      "           0       0.86      0.95      0.91     11100\n",
      "           1       0.79      0.53      0.64      3553\n",
      "\n",
      "    accuracy                           0.85     14653\n",
      "   macro avg       0.82      0.74      0.77     14653\n",
      "weighted avg       0.85      0.85      0.84     14653\n",
      "\n",
      "**************************************************\n",
      "Confusion_Matrix:[[10581   519]\n",
      " [ 1658  1895]]\n"
     ]
    }
   ],
   "source": [
    "print(f\"Accuracy_Score:{accuracy_score(y_test,rfc_y_pred)}\")\n",
    "print('*'*50)\n",
    "print(f\"Classification_Report:{classification_report(y_test,rfc_y_pred)}\")\n",
    "print('*'*50)\n",
    "print(f\"Confusion_Matrix:{confusion_matrix(y_test,rfc_y_pred)}\")"
   ]
  },
  {
   "cell_type": "code",
   "execution_count": 135,
   "metadata": {},
   "outputs": [
    {
     "data": {
      "text/plain": [
       "KNeighborsClassifier()"
      ]
     },
     "execution_count": 135,
     "metadata": {},
     "output_type": "execute_result"
    }
   ],
   "source": [
    "from sklearn.neighbors import KNeighborsClassifier\n",
    "knc = KNeighborsClassifier()\n",
    "knc.fit(x_train,y_train)\n"
   ]
  },
  {
   "cell_type": "code",
   "execution_count": 136,
   "metadata": {},
   "outputs": [],
   "source": [
    "\n",
    "param_grid = { 'algorithm' : ['ball_tree', 'kd_tree', 'brute'],\n",
    "               'leaf_size' : [18,25,27,30],\n",
    "               'n_neighbors' : [3,7,9,11]\n",
    "              }"
   ]
  },
  {
   "cell_type": "code",
   "execution_count": 137,
   "metadata": {},
   "outputs": [
    {
     "name": "stdout",
     "output_type": "stream",
     "text": [
      "Fitting 5 folds for each of 48 candidates, totalling 240 fits\n",
      "[CV] algorithm=ball_tree, leaf_size=18, n_neighbors=3 ................\n"
     ]
    },
    {
     "name": "stderr",
     "output_type": "stream",
     "text": [
      "[Parallel(n_jobs=1)]: Using backend SequentialBackend with 1 concurrent workers.\n"
     ]
    },
    {
     "name": "stdout",
     "output_type": "stream",
     "text": [
      "[CV]  algorithm=ball_tree, leaf_size=18, n_neighbors=3, score=0.762, total=   1.7s\n",
      "[CV] algorithm=ball_tree, leaf_size=18, n_neighbors=3 ................\n"
     ]
    },
    {
     "name": "stderr",
     "output_type": "stream",
     "text": [
      "[Parallel(n_jobs=1)]: Done   1 out of   1 | elapsed:    1.6s remaining:    0.0s\n"
     ]
    },
    {
     "name": "stdout",
     "output_type": "stream",
     "text": [
      "[CV]  algorithm=ball_tree, leaf_size=18, n_neighbors=3, score=0.759, total=   1.5s\n",
      "[CV] algorithm=ball_tree, leaf_size=18, n_neighbors=3 ................\n"
     ]
    },
    {
     "name": "stderr",
     "output_type": "stream",
     "text": [
      "[Parallel(n_jobs=1)]: Done   2 out of   2 | elapsed:    3.1s remaining:    0.0s\n"
     ]
    },
    {
     "name": "stdout",
     "output_type": "stream",
     "text": [
      "[CV]  algorithm=ball_tree, leaf_size=18, n_neighbors=3, score=0.765, total=   1.5s\n",
      "[CV] algorithm=ball_tree, leaf_size=18, n_neighbors=3 ................\n",
      "[CV]  algorithm=ball_tree, leaf_size=18, n_neighbors=3, score=0.759, total=   2.1s\n",
      "[CV] algorithm=ball_tree, leaf_size=18, n_neighbors=3 ................\n",
      "[CV]  algorithm=ball_tree, leaf_size=18, n_neighbors=3, score=0.763, total=   2.2s\n",
      "[CV] algorithm=ball_tree, leaf_size=18, n_neighbors=7 ................\n",
      "[CV]  algorithm=ball_tree, leaf_size=18, n_neighbors=7, score=0.783, total=   2.4s\n",
      "[CV] algorithm=ball_tree, leaf_size=18, n_neighbors=7 ................\n",
      "[CV]  algorithm=ball_tree, leaf_size=18, n_neighbors=7, score=0.786, total=   1.7s\n",
      "[CV] algorithm=ball_tree, leaf_size=18, n_neighbors=7 ................\n",
      "[CV]  algorithm=ball_tree, leaf_size=18, n_neighbors=7, score=0.785, total=   1.3s\n",
      "[CV] algorithm=ball_tree, leaf_size=18, n_neighbors=7 ................\n",
      "[CV]  algorithm=ball_tree, leaf_size=18, n_neighbors=7, score=0.782, total=   1.8s\n",
      "[CV] algorithm=ball_tree, leaf_size=18, n_neighbors=7 ................\n",
      "[CV]  algorithm=ball_tree, leaf_size=18, n_neighbors=7, score=0.785, total=   1.4s\n",
      "[CV] algorithm=ball_tree, leaf_size=18, n_neighbors=9 ................\n",
      "[CV]  algorithm=ball_tree, leaf_size=18, n_neighbors=9, score=0.787, total=   1.8s\n",
      "[CV] algorithm=ball_tree, leaf_size=18, n_neighbors=9 ................\n",
      "[CV]  algorithm=ball_tree, leaf_size=18, n_neighbors=9, score=0.796, total=   1.6s\n",
      "[CV] algorithm=ball_tree, leaf_size=18, n_neighbors=9 ................\n",
      "[CV]  algorithm=ball_tree, leaf_size=18, n_neighbors=9, score=0.794, total=   1.4s\n",
      "[CV] algorithm=ball_tree, leaf_size=18, n_neighbors=9 ................\n",
      "[CV]  algorithm=ball_tree, leaf_size=18, n_neighbors=9, score=0.789, total=   1.5s\n",
      "[CV] algorithm=ball_tree, leaf_size=18, n_neighbors=9 ................\n",
      "[CV]  algorithm=ball_tree, leaf_size=18, n_neighbors=9, score=0.793, total=   1.6s\n",
      "[CV] algorithm=ball_tree, leaf_size=18, n_neighbors=11 ...............\n",
      "[CV]  algorithm=ball_tree, leaf_size=18, n_neighbors=11, score=0.791, total=   1.8s\n",
      "[CV] algorithm=ball_tree, leaf_size=18, n_neighbors=11 ...............\n",
      "[CV]  algorithm=ball_tree, leaf_size=18, n_neighbors=11, score=0.796, total=   1.4s\n",
      "[CV] algorithm=ball_tree, leaf_size=18, n_neighbors=11 ...............\n",
      "[CV]  algorithm=ball_tree, leaf_size=18, n_neighbors=11, score=0.798, total=   1.4s\n",
      "[CV] algorithm=ball_tree, leaf_size=18, n_neighbors=11 ...............\n",
      "[CV]  algorithm=ball_tree, leaf_size=18, n_neighbors=11, score=0.794, total=   2.3s\n",
      "[CV] algorithm=ball_tree, leaf_size=18, n_neighbors=11 ...............\n",
      "[CV]  algorithm=ball_tree, leaf_size=18, n_neighbors=11, score=0.798, total=   1.8s\n",
      "[CV] algorithm=ball_tree, leaf_size=25, n_neighbors=3 ................\n",
      "[CV]  algorithm=ball_tree, leaf_size=25, n_neighbors=3, score=0.762, total=   1.7s\n",
      "[CV] algorithm=ball_tree, leaf_size=25, n_neighbors=3 ................\n",
      "[CV]  algorithm=ball_tree, leaf_size=25, n_neighbors=3, score=0.759, total=   1.6s\n",
      "[CV] algorithm=ball_tree, leaf_size=25, n_neighbors=3 ................\n",
      "[CV]  algorithm=ball_tree, leaf_size=25, n_neighbors=3, score=0.765, total=   1.3s\n",
      "[CV] algorithm=ball_tree, leaf_size=25, n_neighbors=3 ................\n",
      "[CV]  algorithm=ball_tree, leaf_size=25, n_neighbors=3, score=0.759, total=   1.3s\n",
      "[CV] algorithm=ball_tree, leaf_size=25, n_neighbors=3 ................\n",
      "[CV]  algorithm=ball_tree, leaf_size=25, n_neighbors=3, score=0.763, total=   1.7s\n",
      "[CV] algorithm=ball_tree, leaf_size=25, n_neighbors=7 ................\n",
      "[CV]  algorithm=ball_tree, leaf_size=25, n_neighbors=7, score=0.783, total=   1.5s\n",
      "[CV] algorithm=ball_tree, leaf_size=25, n_neighbors=7 ................\n",
      "[CV]  algorithm=ball_tree, leaf_size=25, n_neighbors=7, score=0.786, total=   1.4s\n",
      "[CV] algorithm=ball_tree, leaf_size=25, n_neighbors=7 ................\n",
      "[CV]  algorithm=ball_tree, leaf_size=25, n_neighbors=7, score=0.785, total=   1.4s\n",
      "[CV] algorithm=ball_tree, leaf_size=25, n_neighbors=7 ................\n",
      "[CV]  algorithm=ball_tree, leaf_size=25, n_neighbors=7, score=0.782, total=   1.5s\n",
      "[CV] algorithm=ball_tree, leaf_size=25, n_neighbors=7 ................\n",
      "[CV]  algorithm=ball_tree, leaf_size=25, n_neighbors=7, score=0.785, total=   1.3s\n",
      "[CV] algorithm=ball_tree, leaf_size=25, n_neighbors=9 ................\n",
      "[CV]  algorithm=ball_tree, leaf_size=25, n_neighbors=9, score=0.787, total=   1.2s\n",
      "[CV] algorithm=ball_tree, leaf_size=25, n_neighbors=9 ................\n",
      "[CV]  algorithm=ball_tree, leaf_size=25, n_neighbors=9, score=0.796, total=   1.6s\n",
      "[CV] algorithm=ball_tree, leaf_size=25, n_neighbors=9 ................\n",
      "[CV]  algorithm=ball_tree, leaf_size=25, n_neighbors=9, score=0.794, total=   1.8s\n",
      "[CV] algorithm=ball_tree, leaf_size=25, n_neighbors=9 ................\n",
      "[CV]  algorithm=ball_tree, leaf_size=25, n_neighbors=9, score=0.789, total=   1.8s\n",
      "[CV] algorithm=ball_tree, leaf_size=25, n_neighbors=9 ................\n",
      "[CV]  algorithm=ball_tree, leaf_size=25, n_neighbors=9, score=0.793, total=   1.5s\n",
      "[CV] algorithm=ball_tree, leaf_size=25, n_neighbors=11 ...............\n",
      "[CV]  algorithm=ball_tree, leaf_size=25, n_neighbors=11, score=0.791, total=   1.3s\n",
      "[CV] algorithm=ball_tree, leaf_size=25, n_neighbors=11 ...............\n",
      "[CV]  algorithm=ball_tree, leaf_size=25, n_neighbors=11, score=0.796, total=   1.9s\n",
      "[CV] algorithm=ball_tree, leaf_size=25, n_neighbors=11 ...............\n",
      "[CV]  algorithm=ball_tree, leaf_size=25, n_neighbors=11, score=0.798, total=   1.2s\n",
      "[CV] algorithm=ball_tree, leaf_size=25, n_neighbors=11 ...............\n",
      "[CV]  algorithm=ball_tree, leaf_size=25, n_neighbors=11, score=0.794, total=   1.5s\n",
      "[CV] algorithm=ball_tree, leaf_size=25, n_neighbors=11 ...............\n",
      "[CV]  algorithm=ball_tree, leaf_size=25, n_neighbors=11, score=0.798, total=   2.2s\n",
      "[CV] algorithm=ball_tree, leaf_size=27, n_neighbors=3 ................\n",
      "[CV]  algorithm=ball_tree, leaf_size=27, n_neighbors=3, score=0.762, total=   2.4s\n",
      "[CV] algorithm=ball_tree, leaf_size=27, n_neighbors=3 ................\n",
      "[CV]  algorithm=ball_tree, leaf_size=27, n_neighbors=3, score=0.759, total=   2.1s\n",
      "[CV] algorithm=ball_tree, leaf_size=27, n_neighbors=3 ................\n",
      "[CV]  algorithm=ball_tree, leaf_size=27, n_neighbors=3, score=0.765, total=   2.0s\n",
      "[CV] algorithm=ball_tree, leaf_size=27, n_neighbors=3 ................\n",
      "[CV]  algorithm=ball_tree, leaf_size=27, n_neighbors=3, score=0.759, total=   2.2s\n",
      "[CV] algorithm=ball_tree, leaf_size=27, n_neighbors=3 ................\n",
      "[CV]  algorithm=ball_tree, leaf_size=27, n_neighbors=3, score=0.763, total=   1.6s\n",
      "[CV] algorithm=ball_tree, leaf_size=27, n_neighbors=7 ................\n",
      "[CV]  algorithm=ball_tree, leaf_size=27, n_neighbors=7, score=0.783, total=   2.3s\n",
      "[CV] algorithm=ball_tree, leaf_size=27, n_neighbors=7 ................\n",
      "[CV]  algorithm=ball_tree, leaf_size=27, n_neighbors=7, score=0.786, total=   2.4s\n",
      "[CV] algorithm=ball_tree, leaf_size=27, n_neighbors=7 ................\n",
      "[CV]  algorithm=ball_tree, leaf_size=27, n_neighbors=7, score=0.785, total=   1.8s\n",
      "[CV] algorithm=ball_tree, leaf_size=27, n_neighbors=7 ................\n",
      "[CV]  algorithm=ball_tree, leaf_size=27, n_neighbors=7, score=0.782, total=   1.8s\n",
      "[CV] algorithm=ball_tree, leaf_size=27, n_neighbors=7 ................\n",
      "[CV]  algorithm=ball_tree, leaf_size=27, n_neighbors=7, score=0.786, total=   1.9s\n",
      "[CV] algorithm=ball_tree, leaf_size=27, n_neighbors=9 ................\n",
      "[CV]  algorithm=ball_tree, leaf_size=27, n_neighbors=9, score=0.787, total=   2.6s\n",
      "[CV] algorithm=ball_tree, leaf_size=27, n_neighbors=9 ................\n",
      "[CV]  algorithm=ball_tree, leaf_size=27, n_neighbors=9, score=0.796, total=   2.4s\n",
      "[CV] algorithm=ball_tree, leaf_size=27, n_neighbors=9 ................\n",
      "[CV]  algorithm=ball_tree, leaf_size=27, n_neighbors=9, score=0.794, total=   1.7s\n",
      "[CV] algorithm=ball_tree, leaf_size=27, n_neighbors=9 ................\n",
      "[CV]  algorithm=ball_tree, leaf_size=27, n_neighbors=9, score=0.789, total=   2.0s\n",
      "[CV] algorithm=ball_tree, leaf_size=27, n_neighbors=9 ................\n",
      "[CV]  algorithm=ball_tree, leaf_size=27, n_neighbors=9, score=0.793, total=   1.7s\n",
      "[CV] algorithm=ball_tree, leaf_size=27, n_neighbors=11 ...............\n",
      "[CV]  algorithm=ball_tree, leaf_size=27, n_neighbors=11, score=0.791, total=   2.7s\n",
      "[CV] algorithm=ball_tree, leaf_size=27, n_neighbors=11 ...............\n",
      "[CV]  algorithm=ball_tree, leaf_size=27, n_neighbors=11, score=0.796, total=   2.4s\n",
      "[CV] algorithm=ball_tree, leaf_size=27, n_neighbors=11 ...............\n",
      "[CV]  algorithm=ball_tree, leaf_size=27, n_neighbors=11, score=0.798, total=   1.8s\n",
      "[CV] algorithm=ball_tree, leaf_size=27, n_neighbors=11 ...............\n",
      "[CV]  algorithm=ball_tree, leaf_size=27, n_neighbors=11, score=0.794, total=   2.5s\n",
      "[CV] algorithm=ball_tree, leaf_size=27, n_neighbors=11 ...............\n",
      "[CV]  algorithm=ball_tree, leaf_size=27, n_neighbors=11, score=0.798, total=   2.7s\n",
      "[CV] algorithm=ball_tree, leaf_size=30, n_neighbors=3 ................\n",
      "[CV]  algorithm=ball_tree, leaf_size=30, n_neighbors=3, score=0.762, total=   2.3s\n",
      "[CV] algorithm=ball_tree, leaf_size=30, n_neighbors=3 ................\n",
      "[CV]  algorithm=ball_tree, leaf_size=30, n_neighbors=3, score=0.759, total=   1.9s\n",
      "[CV] algorithm=ball_tree, leaf_size=30, n_neighbors=3 ................\n",
      "[CV]  algorithm=ball_tree, leaf_size=30, n_neighbors=3, score=0.765, total=   1.2s\n",
      "[CV] algorithm=ball_tree, leaf_size=30, n_neighbors=3 ................\n",
      "[CV]  algorithm=ball_tree, leaf_size=30, n_neighbors=3, score=0.759, total=   1.7s\n",
      "[CV] algorithm=ball_tree, leaf_size=30, n_neighbors=3 ................\n",
      "[CV]  algorithm=ball_tree, leaf_size=30, n_neighbors=3, score=0.763, total=   2.7s\n",
      "[CV] algorithm=ball_tree, leaf_size=30, n_neighbors=7 ................\n",
      "[CV]  algorithm=ball_tree, leaf_size=30, n_neighbors=7, score=0.783, total=   2.3s\n",
      "[CV] algorithm=ball_tree, leaf_size=30, n_neighbors=7 ................\n",
      "[CV]  algorithm=ball_tree, leaf_size=30, n_neighbors=7, score=0.786, total=   2.3s\n",
      "[CV] algorithm=ball_tree, leaf_size=30, n_neighbors=7 ................\n",
      "[CV]  algorithm=ball_tree, leaf_size=30, n_neighbors=7, score=0.785, total=   2.1s\n",
      "[CV] algorithm=ball_tree, leaf_size=30, n_neighbors=7 ................\n",
      "[CV]  algorithm=ball_tree, leaf_size=30, n_neighbors=7, score=0.782, total=   2.3s\n",
      "[CV] algorithm=ball_tree, leaf_size=30, n_neighbors=7 ................\n",
      "[CV]  algorithm=ball_tree, leaf_size=30, n_neighbors=7, score=0.786, total=   2.1s\n",
      "[CV] algorithm=ball_tree, leaf_size=30, n_neighbors=9 ................\n",
      "[CV]  algorithm=ball_tree, leaf_size=30, n_neighbors=9, score=0.787, total=   1.6s\n",
      "[CV] algorithm=ball_tree, leaf_size=30, n_neighbors=9 ................\n",
      "[CV]  algorithm=ball_tree, leaf_size=30, n_neighbors=9, score=0.796, total=   1.8s\n",
      "[CV] algorithm=ball_tree, leaf_size=30, n_neighbors=9 ................\n",
      "[CV]  algorithm=ball_tree, leaf_size=30, n_neighbors=9, score=0.794, total=   2.0s\n",
      "[CV] algorithm=ball_tree, leaf_size=30, n_neighbors=9 ................\n",
      "[CV]  algorithm=ball_tree, leaf_size=30, n_neighbors=9, score=0.789, total=   1.9s\n",
      "[CV] algorithm=ball_tree, leaf_size=30, n_neighbors=9 ................\n",
      "[CV]  algorithm=ball_tree, leaf_size=30, n_neighbors=9, score=0.793, total=   1.8s\n",
      "[CV] algorithm=ball_tree, leaf_size=30, n_neighbors=11 ...............\n",
      "[CV]  algorithm=ball_tree, leaf_size=30, n_neighbors=11, score=0.791, total=   2.4s\n",
      "[CV] algorithm=ball_tree, leaf_size=30, n_neighbors=11 ...............\n",
      "[CV]  algorithm=ball_tree, leaf_size=30, n_neighbors=11, score=0.796, total=   1.8s\n",
      "[CV] algorithm=ball_tree, leaf_size=30, n_neighbors=11 ...............\n",
      "[CV]  algorithm=ball_tree, leaf_size=30, n_neighbors=11, score=0.798, total=   1.7s\n",
      "[CV] algorithm=ball_tree, leaf_size=30, n_neighbors=11 ...............\n",
      "[CV]  algorithm=ball_tree, leaf_size=30, n_neighbors=11, score=0.794, total=   2.6s\n",
      "[CV] algorithm=ball_tree, leaf_size=30, n_neighbors=11 ...............\n",
      "[CV]  algorithm=ball_tree, leaf_size=30, n_neighbors=11, score=0.798, total=   2.2s\n",
      "[CV] algorithm=kd_tree, leaf_size=18, n_neighbors=3 ..................\n",
      "[CV]  algorithm=kd_tree, leaf_size=18, n_neighbors=3, score=0.762, total=   1.6s\n",
      "[CV] algorithm=kd_tree, leaf_size=18, n_neighbors=3 ..................\n",
      "[CV]  algorithm=kd_tree, leaf_size=18, n_neighbors=3, score=0.759, total=   1.4s\n",
      "[CV] algorithm=kd_tree, leaf_size=18, n_neighbors=3 ..................\n",
      "[CV]  algorithm=kd_tree, leaf_size=18, n_neighbors=3, score=0.765, total=   1.3s\n",
      "[CV] algorithm=kd_tree, leaf_size=18, n_neighbors=3 ..................\n",
      "[CV]  algorithm=kd_tree, leaf_size=18, n_neighbors=3, score=0.759, total=   2.1s\n",
      "[CV] algorithm=kd_tree, leaf_size=18, n_neighbors=3 ..................\n",
      "[CV]  algorithm=kd_tree, leaf_size=18, n_neighbors=3, score=0.763, total=   1.5s\n",
      "[CV] algorithm=kd_tree, leaf_size=18, n_neighbors=7 ..................\n",
      "[CV]  algorithm=kd_tree, leaf_size=18, n_neighbors=7, score=0.783, total=   1.5s\n",
      "[CV] algorithm=kd_tree, leaf_size=18, n_neighbors=7 ..................\n",
      "[CV]  algorithm=kd_tree, leaf_size=18, n_neighbors=7, score=0.786, total=   1.2s\n",
      "[CV] algorithm=kd_tree, leaf_size=18, n_neighbors=7 ..................\n",
      "[CV]  algorithm=kd_tree, leaf_size=18, n_neighbors=7, score=0.785, total=   1.3s\n",
      "[CV] algorithm=kd_tree, leaf_size=18, n_neighbors=7 ..................\n",
      "[CV]  algorithm=kd_tree, leaf_size=18, n_neighbors=7, score=0.782, total=   1.7s\n",
      "[CV] algorithm=kd_tree, leaf_size=18, n_neighbors=7 ..................\n",
      "[CV]  algorithm=kd_tree, leaf_size=18, n_neighbors=7, score=0.785, total=   1.4s\n",
      "[CV] algorithm=kd_tree, leaf_size=18, n_neighbors=9 ..................\n",
      "[CV]  algorithm=kd_tree, leaf_size=18, n_neighbors=9, score=0.787, total=   1.8s\n",
      "[CV] algorithm=kd_tree, leaf_size=18, n_neighbors=9 ..................\n",
      "[CV]  algorithm=kd_tree, leaf_size=18, n_neighbors=9, score=0.796, total=   1.8s\n",
      "[CV] algorithm=kd_tree, leaf_size=18, n_neighbors=9 ..................\n",
      "[CV]  algorithm=kd_tree, leaf_size=18, n_neighbors=9, score=0.794, total=   1.6s\n",
      "[CV] algorithm=kd_tree, leaf_size=18, n_neighbors=9 ..................\n",
      "[CV]  algorithm=kd_tree, leaf_size=18, n_neighbors=9, score=0.789, total=   1.5s\n",
      "[CV] algorithm=kd_tree, leaf_size=18, n_neighbors=9 ..................\n",
      "[CV]  algorithm=kd_tree, leaf_size=18, n_neighbors=9, score=0.793, total=   1.6s\n",
      "[CV] algorithm=kd_tree, leaf_size=18, n_neighbors=11 .................\n",
      "[CV]  algorithm=kd_tree, leaf_size=18, n_neighbors=11, score=0.791, total=   1.6s\n",
      "[CV] algorithm=kd_tree, leaf_size=18, n_neighbors=11 .................\n",
      "[CV]  algorithm=kd_tree, leaf_size=18, n_neighbors=11, score=0.796, total=   1.4s\n",
      "[CV] algorithm=kd_tree, leaf_size=18, n_neighbors=11 .................\n",
      "[CV]  algorithm=kd_tree, leaf_size=18, n_neighbors=11, score=0.798, total=   1.3s\n",
      "[CV] algorithm=kd_tree, leaf_size=18, n_neighbors=11 .................\n",
      "[CV]  algorithm=kd_tree, leaf_size=18, n_neighbors=11, score=0.794, total=   1.2s\n",
      "[CV] algorithm=kd_tree, leaf_size=18, n_neighbors=11 .................\n",
      "[CV]  algorithm=kd_tree, leaf_size=18, n_neighbors=11, score=0.798, total=   1.3s\n",
      "[CV] algorithm=kd_tree, leaf_size=25, n_neighbors=3 ..................\n",
      "[CV]  algorithm=kd_tree, leaf_size=25, n_neighbors=3, score=0.762, total=   1.1s\n",
      "[CV] algorithm=kd_tree, leaf_size=25, n_neighbors=3 ..................\n",
      "[CV]  algorithm=kd_tree, leaf_size=25, n_neighbors=3, score=0.759, total=   1.7s\n",
      "[CV] algorithm=kd_tree, leaf_size=25, n_neighbors=3 ..................\n",
      "[CV]  algorithm=kd_tree, leaf_size=25, n_neighbors=3, score=0.765, total=   2.0s\n",
      "[CV] algorithm=kd_tree, leaf_size=25, n_neighbors=3 ..................\n",
      "[CV]  algorithm=kd_tree, leaf_size=25, n_neighbors=3, score=0.759, total=   2.1s\n",
      "[CV] algorithm=kd_tree, leaf_size=25, n_neighbors=3 ..................\n",
      "[CV]  algorithm=kd_tree, leaf_size=25, n_neighbors=3, score=0.763, total=   1.5s\n",
      "[CV] algorithm=kd_tree, leaf_size=25, n_neighbors=7 ..................\n",
      "[CV]  algorithm=kd_tree, leaf_size=25, n_neighbors=7, score=0.783, total=   1.3s\n",
      "[CV] algorithm=kd_tree, leaf_size=25, n_neighbors=7 ..................\n",
      "[CV]  algorithm=kd_tree, leaf_size=25, n_neighbors=7, score=0.786, total=   1.3s\n",
      "[CV] algorithm=kd_tree, leaf_size=25, n_neighbors=7 ..................\n",
      "[CV]  algorithm=kd_tree, leaf_size=25, n_neighbors=7, score=0.785, total=   1.4s\n",
      "[CV] algorithm=kd_tree, leaf_size=25, n_neighbors=7 ..................\n",
      "[CV]  algorithm=kd_tree, leaf_size=25, n_neighbors=7, score=0.782, total=   1.5s\n",
      "[CV] algorithm=kd_tree, leaf_size=25, n_neighbors=7 ..................\n",
      "[CV]  algorithm=kd_tree, leaf_size=25, n_neighbors=7, score=0.785, total=   1.2s\n",
      "[CV] algorithm=kd_tree, leaf_size=25, n_neighbors=9 ..................\n",
      "[CV]  algorithm=kd_tree, leaf_size=25, n_neighbors=9, score=0.787, total=   1.9s\n",
      "[CV] algorithm=kd_tree, leaf_size=25, n_neighbors=9 ..................\n",
      "[CV]  algorithm=kd_tree, leaf_size=25, n_neighbors=9, score=0.796, total=   1.4s\n",
      "[CV] algorithm=kd_tree, leaf_size=25, n_neighbors=9 ..................\n",
      "[CV]  algorithm=kd_tree, leaf_size=25, n_neighbors=9, score=0.794, total=   1.9s\n",
      "[CV] algorithm=kd_tree, leaf_size=25, n_neighbors=9 ..................\n",
      "[CV]  algorithm=kd_tree, leaf_size=25, n_neighbors=9, score=0.789, total=   1.9s\n",
      "[CV] algorithm=kd_tree, leaf_size=25, n_neighbors=9 ..................\n",
      "[CV]  algorithm=kd_tree, leaf_size=25, n_neighbors=9, score=0.793, total=   1.6s\n",
      "[CV] algorithm=kd_tree, leaf_size=25, n_neighbors=11 .................\n",
      "[CV]  algorithm=kd_tree, leaf_size=25, n_neighbors=11, score=0.791, total=   1.6s\n",
      "[CV] algorithm=kd_tree, leaf_size=25, n_neighbors=11 .................\n",
      "[CV]  algorithm=kd_tree, leaf_size=25, n_neighbors=11, score=0.796, total=   1.5s\n",
      "[CV] algorithm=kd_tree, leaf_size=25, n_neighbors=11 .................\n",
      "[CV]  algorithm=kd_tree, leaf_size=25, n_neighbors=11, score=0.798, total=   1.4s\n",
      "[CV] algorithm=kd_tree, leaf_size=25, n_neighbors=11 .................\n",
      "[CV]  algorithm=kd_tree, leaf_size=25, n_neighbors=11, score=0.794, total=   1.8s\n",
      "[CV] algorithm=kd_tree, leaf_size=25, n_neighbors=11 .................\n",
      "[CV]  algorithm=kd_tree, leaf_size=25, n_neighbors=11, score=0.798, total=   1.4s\n",
      "[CV] algorithm=kd_tree, leaf_size=27, n_neighbors=3 ..................\n",
      "[CV]  algorithm=kd_tree, leaf_size=27, n_neighbors=3, score=0.762, total=   1.2s\n",
      "[CV] algorithm=kd_tree, leaf_size=27, n_neighbors=3 ..................\n",
      "[CV]  algorithm=kd_tree, leaf_size=27, n_neighbors=3, score=0.759, total=   1.2s\n",
      "[CV] algorithm=kd_tree, leaf_size=27, n_neighbors=3 ..................\n",
      "[CV]  algorithm=kd_tree, leaf_size=27, n_neighbors=3, score=0.765, total=   1.5s\n",
      "[CV] algorithm=kd_tree, leaf_size=27, n_neighbors=3 ..................\n",
      "[CV]  algorithm=kd_tree, leaf_size=27, n_neighbors=3, score=0.759, total=   1.2s\n",
      "[CV] algorithm=kd_tree, leaf_size=27, n_neighbors=3 ..................\n",
      "[CV]  algorithm=kd_tree, leaf_size=27, n_neighbors=3, score=0.763, total=   1.6s\n",
      "[CV] algorithm=kd_tree, leaf_size=27, n_neighbors=7 ..................\n",
      "[CV]  algorithm=kd_tree, leaf_size=27, n_neighbors=7, score=0.783, total=   1.6s\n",
      "[CV] algorithm=kd_tree, leaf_size=27, n_neighbors=7 ..................\n",
      "[CV]  algorithm=kd_tree, leaf_size=27, n_neighbors=7, score=0.786, total=   1.6s\n",
      "[CV] algorithm=kd_tree, leaf_size=27, n_neighbors=7 ..................\n",
      "[CV]  algorithm=kd_tree, leaf_size=27, n_neighbors=7, score=0.785, total=   1.5s\n",
      "[CV] algorithm=kd_tree, leaf_size=27, n_neighbors=7 ..................\n",
      "[CV]  algorithm=kd_tree, leaf_size=27, n_neighbors=7, score=0.782, total=   1.6s\n",
      "[CV] algorithm=kd_tree, leaf_size=27, n_neighbors=7 ..................\n",
      "[CV]  algorithm=kd_tree, leaf_size=27, n_neighbors=7, score=0.785, total=   1.6s\n",
      "[CV] algorithm=kd_tree, leaf_size=27, n_neighbors=9 ..................\n",
      "[CV]  algorithm=kd_tree, leaf_size=27, n_neighbors=9, score=0.787, total=   1.6s\n",
      "[CV] algorithm=kd_tree, leaf_size=27, n_neighbors=9 ..................\n",
      "[CV]  algorithm=kd_tree, leaf_size=27, n_neighbors=9, score=0.796, total=   1.1s\n",
      "[CV] algorithm=kd_tree, leaf_size=27, n_neighbors=9 ..................\n",
      "[CV]  algorithm=kd_tree, leaf_size=27, n_neighbors=9, score=0.794, total=   1.9s\n",
      "[CV] algorithm=kd_tree, leaf_size=27, n_neighbors=9 ..................\n",
      "[CV]  algorithm=kd_tree, leaf_size=27, n_neighbors=9, score=0.789, total=   1.5s\n",
      "[CV] algorithm=kd_tree, leaf_size=27, n_neighbors=9 ..................\n",
      "[CV]  algorithm=kd_tree, leaf_size=27, n_neighbors=9, score=0.793, total=   1.6s\n",
      "[CV] algorithm=kd_tree, leaf_size=27, n_neighbors=11 .................\n",
      "[CV]  algorithm=kd_tree, leaf_size=27, n_neighbors=11, score=0.791, total=   1.6s\n",
      "[CV] algorithm=kd_tree, leaf_size=27, n_neighbors=11 .................\n",
      "[CV]  algorithm=kd_tree, leaf_size=27, n_neighbors=11, score=0.796, total=   1.6s\n",
      "[CV] algorithm=kd_tree, leaf_size=27, n_neighbors=11 .................\n",
      "[CV]  algorithm=kd_tree, leaf_size=27, n_neighbors=11, score=0.798, total=   1.1s\n",
      "[CV] algorithm=kd_tree, leaf_size=27, n_neighbors=11 .................\n",
      "[CV]  algorithm=kd_tree, leaf_size=27, n_neighbors=11, score=0.794, total=   1.1s\n",
      "[CV] algorithm=kd_tree, leaf_size=27, n_neighbors=11 .................\n",
      "[CV]  algorithm=kd_tree, leaf_size=27, n_neighbors=11, score=0.798, total=   1.2s\n",
      "[CV] algorithm=kd_tree, leaf_size=30, n_neighbors=3 ..................\n",
      "[CV]  algorithm=kd_tree, leaf_size=30, n_neighbors=3, score=0.762, total=   1.2s\n",
      "[CV] algorithm=kd_tree, leaf_size=30, n_neighbors=3 ..................\n",
      "[CV]  algorithm=kd_tree, leaf_size=30, n_neighbors=3, score=0.759, total=   1.1s\n",
      "[CV] algorithm=kd_tree, leaf_size=30, n_neighbors=3 ..................\n",
      "[CV]  algorithm=kd_tree, leaf_size=30, n_neighbors=3, score=0.765, total=   1.0s\n",
      "[CV] algorithm=kd_tree, leaf_size=30, n_neighbors=3 ..................\n",
      "[CV]  algorithm=kd_tree, leaf_size=30, n_neighbors=3, score=0.759, total=   1.0s\n",
      "[CV] algorithm=kd_tree, leaf_size=30, n_neighbors=3 ..................\n",
      "[CV]  algorithm=kd_tree, leaf_size=30, n_neighbors=3, score=0.763, total=   1.0s\n",
      "[CV] algorithm=kd_tree, leaf_size=30, n_neighbors=7 ..................\n",
      "[CV]  algorithm=kd_tree, leaf_size=30, n_neighbors=7, score=0.783, total=   1.1s\n",
      "[CV] algorithm=kd_tree, leaf_size=30, n_neighbors=7 ..................\n",
      "[CV]  algorithm=kd_tree, leaf_size=30, n_neighbors=7, score=0.786, total=   1.1s\n",
      "[CV] algorithm=kd_tree, leaf_size=30, n_neighbors=7 ..................\n",
      "[CV]  algorithm=kd_tree, leaf_size=30, n_neighbors=7, score=0.785, total=   1.0s\n",
      "[CV] algorithm=kd_tree, leaf_size=30, n_neighbors=7 ..................\n",
      "[CV]  algorithm=kd_tree, leaf_size=30, n_neighbors=7, score=0.782, total=   1.1s\n",
      "[CV] algorithm=kd_tree, leaf_size=30, n_neighbors=7 ..................\n",
      "[CV]  algorithm=kd_tree, leaf_size=30, n_neighbors=7, score=0.785, total=   1.1s\n",
      "[CV] algorithm=kd_tree, leaf_size=30, n_neighbors=9 ..................\n",
      "[CV]  algorithm=kd_tree, leaf_size=30, n_neighbors=9, score=0.787, total=   1.1s\n",
      "[CV] algorithm=kd_tree, leaf_size=30, n_neighbors=9 ..................\n",
      "[CV]  algorithm=kd_tree, leaf_size=30, n_neighbors=9, score=0.796, total=   1.0s\n",
      "[CV] algorithm=kd_tree, leaf_size=30, n_neighbors=9 ..................\n",
      "[CV]  algorithm=kd_tree, leaf_size=30, n_neighbors=9, score=0.794, total=   1.1s\n",
      "[CV] algorithm=kd_tree, leaf_size=30, n_neighbors=9 ..................\n",
      "[CV]  algorithm=kd_tree, leaf_size=30, n_neighbors=9, score=0.789, total=   1.0s\n",
      "[CV] algorithm=kd_tree, leaf_size=30, n_neighbors=9 ..................\n",
      "[CV]  algorithm=kd_tree, leaf_size=30, n_neighbors=9, score=0.793, total=   1.0s\n",
      "[CV] algorithm=kd_tree, leaf_size=30, n_neighbors=11 .................\n",
      "[CV]  algorithm=kd_tree, leaf_size=30, n_neighbors=11, score=0.791, total=   1.1s\n",
      "[CV] algorithm=kd_tree, leaf_size=30, n_neighbors=11 .................\n",
      "[CV]  algorithm=kd_tree, leaf_size=30, n_neighbors=11, score=0.796, total=   1.1s\n",
      "[CV] algorithm=kd_tree, leaf_size=30, n_neighbors=11 .................\n",
      "[CV]  algorithm=kd_tree, leaf_size=30, n_neighbors=11, score=0.798, total=   1.1s\n",
      "[CV] algorithm=kd_tree, leaf_size=30, n_neighbors=11 .................\n",
      "[CV]  algorithm=kd_tree, leaf_size=30, n_neighbors=11, score=0.794, total=   1.3s\n",
      "[CV] algorithm=kd_tree, leaf_size=30, n_neighbors=11 .................\n",
      "[CV]  algorithm=kd_tree, leaf_size=30, n_neighbors=11, score=0.798, total=   1.1s\n",
      "[CV] algorithm=brute, leaf_size=18, n_neighbors=3 ....................\n",
      "[CV]  algorithm=brute, leaf_size=18, n_neighbors=3, score=0.762, total=   5.4s\n",
      "[CV] algorithm=brute, leaf_size=18, n_neighbors=3 ....................\n",
      "[CV]  algorithm=brute, leaf_size=18, n_neighbors=3, score=0.760, total=   3.1s\n",
      "[CV] algorithm=brute, leaf_size=18, n_neighbors=3 ....................\n",
      "[CV]  algorithm=brute, leaf_size=18, n_neighbors=3, score=0.765, total=   3.1s\n",
      "[CV] algorithm=brute, leaf_size=18, n_neighbors=3 ....................\n",
      "[CV]  algorithm=brute, leaf_size=18, n_neighbors=3, score=0.759, total=   3.2s\n",
      "[CV] algorithm=brute, leaf_size=18, n_neighbors=3 ....................\n",
      "[CV]  algorithm=brute, leaf_size=18, n_neighbors=3, score=0.763, total=   3.0s\n",
      "[CV] algorithm=brute, leaf_size=18, n_neighbors=7 ....................\n",
      "[CV]  algorithm=brute, leaf_size=18, n_neighbors=7, score=0.783, total=   3.9s\n",
      "[CV] algorithm=brute, leaf_size=18, n_neighbors=7 ....................\n",
      "[CV]  algorithm=brute, leaf_size=18, n_neighbors=7, score=0.786, total=   4.1s\n",
      "[CV] algorithm=brute, leaf_size=18, n_neighbors=7 ....................\n",
      "[CV]  algorithm=brute, leaf_size=18, n_neighbors=7, score=0.785, total=   3.9s\n",
      "[CV] algorithm=brute, leaf_size=18, n_neighbors=7 ....................\n",
      "[CV]  algorithm=brute, leaf_size=18, n_neighbors=7, score=0.782, total=   4.0s\n",
      "[CV] algorithm=brute, leaf_size=18, n_neighbors=7 ....................\n",
      "[CV]  algorithm=brute, leaf_size=18, n_neighbors=7, score=0.786, total=   4.1s\n",
      "[CV] algorithm=brute, leaf_size=18, n_neighbors=9 ....................\n",
      "[CV]  algorithm=brute, leaf_size=18, n_neighbors=9, score=0.787, total=   4.0s\n",
      "[CV] algorithm=brute, leaf_size=18, n_neighbors=9 ....................\n",
      "[CV]  algorithm=brute, leaf_size=18, n_neighbors=9, score=0.796, total=   3.9s\n",
      "[CV] algorithm=brute, leaf_size=18, n_neighbors=9 ....................\n",
      "[CV]  algorithm=brute, leaf_size=18, n_neighbors=9, score=0.794, total=   4.0s\n",
      "[CV] algorithm=brute, leaf_size=18, n_neighbors=9 ....................\n",
      "[CV]  algorithm=brute, leaf_size=18, n_neighbors=9, score=0.789, total=   4.1s\n",
      "[CV] algorithm=brute, leaf_size=18, n_neighbors=9 ....................\n",
      "[CV]  algorithm=brute, leaf_size=18, n_neighbors=9, score=0.793, total=   4.1s\n",
      "[CV] algorithm=brute, leaf_size=18, n_neighbors=11 ...................\n",
      "[CV]  algorithm=brute, leaf_size=18, n_neighbors=11, score=0.791, total=   4.0s\n",
      "[CV] algorithm=brute, leaf_size=18, n_neighbors=11 ...................\n",
      "[CV]  algorithm=brute, leaf_size=18, n_neighbors=11, score=0.796, total=   3.9s\n",
      "[CV] algorithm=brute, leaf_size=18, n_neighbors=11 ...................\n",
      "[CV]  algorithm=brute, leaf_size=18, n_neighbors=11, score=0.798, total=   4.0s\n",
      "[CV] algorithm=brute, leaf_size=18, n_neighbors=11 ...................\n",
      "[CV]  algorithm=brute, leaf_size=18, n_neighbors=11, score=0.794, total=   3.9s\n",
      "[CV] algorithm=brute, leaf_size=18, n_neighbors=11 ...................\n",
      "[CV]  algorithm=brute, leaf_size=18, n_neighbors=11, score=0.798, total=   4.3s\n",
      "[CV] algorithm=brute, leaf_size=25, n_neighbors=3 ....................\n",
      "[CV]  algorithm=brute, leaf_size=25, n_neighbors=3, score=0.762, total=   3.1s\n",
      "[CV] algorithm=brute, leaf_size=25, n_neighbors=3 ....................\n",
      "[CV]  algorithm=brute, leaf_size=25, n_neighbors=3, score=0.760, total=   3.1s\n",
      "[CV] algorithm=brute, leaf_size=25, n_neighbors=3 ....................\n",
      "[CV]  algorithm=brute, leaf_size=25, n_neighbors=3, score=0.765, total=   3.1s\n",
      "[CV] algorithm=brute, leaf_size=25, n_neighbors=3 ....................\n",
      "[CV]  algorithm=brute, leaf_size=25, n_neighbors=3, score=0.759, total=   3.1s\n",
      "[CV] algorithm=brute, leaf_size=25, n_neighbors=3 ....................\n",
      "[CV]  algorithm=brute, leaf_size=25, n_neighbors=3, score=0.763, total=   3.1s\n",
      "[CV] algorithm=brute, leaf_size=25, n_neighbors=7 ....................\n",
      "[CV]  algorithm=brute, leaf_size=25, n_neighbors=7, score=0.783, total=   4.0s\n",
      "[CV] algorithm=brute, leaf_size=25, n_neighbors=7 ....................\n",
      "[CV]  algorithm=brute, leaf_size=25, n_neighbors=7, score=0.786, total=   3.9s\n",
      "[CV] algorithm=brute, leaf_size=25, n_neighbors=7 ....................\n",
      "[CV]  algorithm=brute, leaf_size=25, n_neighbors=7, score=0.785, total=   3.9s\n",
      "[CV] algorithm=brute, leaf_size=25, n_neighbors=7 ....................\n",
      "[CV]  algorithm=brute, leaf_size=25, n_neighbors=7, score=0.782, total=   3.9s\n",
      "[CV] algorithm=brute, leaf_size=25, n_neighbors=7 ....................\n",
      "[CV]  algorithm=brute, leaf_size=25, n_neighbors=7, score=0.786, total=   4.1s\n",
      "[CV] algorithm=brute, leaf_size=25, n_neighbors=9 ....................\n",
      "[CV]  algorithm=brute, leaf_size=25, n_neighbors=9, score=0.787, total=   3.9s\n",
      "[CV] algorithm=brute, leaf_size=25, n_neighbors=9 ....................\n",
      "[CV]  algorithm=brute, leaf_size=25, n_neighbors=9, score=0.796, total=   3.9s\n",
      "[CV] algorithm=brute, leaf_size=25, n_neighbors=9 ....................\n",
      "[CV]  algorithm=brute, leaf_size=25, n_neighbors=9, score=0.794, total=   4.0s\n",
      "[CV] algorithm=brute, leaf_size=25, n_neighbors=9 ....................\n",
      "[CV]  algorithm=brute, leaf_size=25, n_neighbors=9, score=0.789, total=   3.9s\n",
      "[CV] algorithm=brute, leaf_size=25, n_neighbors=9 ....................\n",
      "[CV]  algorithm=brute, leaf_size=25, n_neighbors=9, score=0.793, total=   4.1s\n",
      "[CV] algorithm=brute, leaf_size=25, n_neighbors=11 ...................\n",
      "[CV]  algorithm=brute, leaf_size=25, n_neighbors=11, score=0.791, total=   3.9s\n",
      "[CV] algorithm=brute, leaf_size=25, n_neighbors=11 ...................\n",
      "[CV]  algorithm=brute, leaf_size=25, n_neighbors=11, score=0.796, total=   4.0s\n",
      "[CV] algorithm=brute, leaf_size=25, n_neighbors=11 ...................\n",
      "[CV]  algorithm=brute, leaf_size=25, n_neighbors=11, score=0.798, total=   4.0s\n",
      "[CV] algorithm=brute, leaf_size=25, n_neighbors=11 ...................\n",
      "[CV]  algorithm=brute, leaf_size=25, n_neighbors=11, score=0.794, total=   3.9s\n",
      "[CV] algorithm=brute, leaf_size=25, n_neighbors=11 ...................\n",
      "[CV]  algorithm=brute, leaf_size=25, n_neighbors=11, score=0.798, total=   4.0s\n",
      "[CV] algorithm=brute, leaf_size=27, n_neighbors=3 ....................\n",
      "[CV]  algorithm=brute, leaf_size=27, n_neighbors=3, score=0.762, total=   3.1s\n",
      "[CV] algorithm=brute, leaf_size=27, n_neighbors=3 ....................\n",
      "[CV]  algorithm=brute, leaf_size=27, n_neighbors=3, score=0.760, total=   3.0s\n",
      "[CV] algorithm=brute, leaf_size=27, n_neighbors=3 ....................\n",
      "[CV]  algorithm=brute, leaf_size=27, n_neighbors=3, score=0.765, total=   3.1s\n",
      "[CV] algorithm=brute, leaf_size=27, n_neighbors=3 ....................\n",
      "[CV]  algorithm=brute, leaf_size=27, n_neighbors=3, score=0.759, total=   3.1s\n",
      "[CV] algorithm=brute, leaf_size=27, n_neighbors=3 ....................\n",
      "[CV]  algorithm=brute, leaf_size=27, n_neighbors=3, score=0.763, total=   3.0s\n",
      "[CV] algorithm=brute, leaf_size=27, n_neighbors=7 ....................\n",
      "[CV]  algorithm=brute, leaf_size=27, n_neighbors=7, score=0.783, total=   3.9s\n",
      "[CV] algorithm=brute, leaf_size=27, n_neighbors=7 ....................\n",
      "[CV]  algorithm=brute, leaf_size=27, n_neighbors=7, score=0.786, total=   4.0s\n",
      "[CV] algorithm=brute, leaf_size=27, n_neighbors=7 ....................\n",
      "[CV]  algorithm=brute, leaf_size=27, n_neighbors=7, score=0.785, total=   3.9s\n",
      "[CV] algorithm=brute, leaf_size=27, n_neighbors=7 ....................\n",
      "[CV]  algorithm=brute, leaf_size=27, n_neighbors=7, score=0.782, total=   4.0s\n",
      "[CV] algorithm=brute, leaf_size=27, n_neighbors=7 ....................\n",
      "[CV]  algorithm=brute, leaf_size=27, n_neighbors=7, score=0.786, total=   4.1s\n",
      "[CV] algorithm=brute, leaf_size=27, n_neighbors=9 ....................\n",
      "[CV]  algorithm=brute, leaf_size=27, n_neighbors=9, score=0.787, total=   3.9s\n",
      "[CV] algorithm=brute, leaf_size=27, n_neighbors=9 ....................\n",
      "[CV]  algorithm=brute, leaf_size=27, n_neighbors=9, score=0.796, total=   4.0s\n",
      "[CV] algorithm=brute, leaf_size=27, n_neighbors=9 ....................\n",
      "[CV]  algorithm=brute, leaf_size=27, n_neighbors=9, score=0.794, total=   3.9s\n",
      "[CV] algorithm=brute, leaf_size=27, n_neighbors=9 ....................\n",
      "[CV]  algorithm=brute, leaf_size=27, n_neighbors=9, score=0.789, total=   4.1s\n",
      "[CV] algorithm=brute, leaf_size=27, n_neighbors=9 ....................\n",
      "[CV]  algorithm=brute, leaf_size=27, n_neighbors=9, score=0.793, total=   4.1s\n",
      "[CV] algorithm=brute, leaf_size=27, n_neighbors=11 ...................\n",
      "[CV]  algorithm=brute, leaf_size=27, n_neighbors=11, score=0.791, total=   4.0s\n",
      "[CV] algorithm=brute, leaf_size=27, n_neighbors=11 ...................\n",
      "[CV]  algorithm=brute, leaf_size=27, n_neighbors=11, score=0.796, total=   3.8s\n",
      "[CV] algorithm=brute, leaf_size=27, n_neighbors=11 ...................\n",
      "[CV]  algorithm=brute, leaf_size=27, n_neighbors=11, score=0.798, total=   3.9s\n",
      "[CV] algorithm=brute, leaf_size=27, n_neighbors=11 ...................\n",
      "[CV]  algorithm=brute, leaf_size=27, n_neighbors=11, score=0.794, total=   3.9s\n",
      "[CV] algorithm=brute, leaf_size=27, n_neighbors=11 ...................\n",
      "[CV]  algorithm=brute, leaf_size=27, n_neighbors=11, score=0.798, total=   4.0s\n",
      "[CV] algorithm=brute, leaf_size=30, n_neighbors=3 ....................\n",
      "[CV]  algorithm=brute, leaf_size=30, n_neighbors=3, score=0.762, total=   3.2s\n",
      "[CV] algorithm=brute, leaf_size=30, n_neighbors=3 ....................\n",
      "[CV]  algorithm=brute, leaf_size=30, n_neighbors=3, score=0.760, total=   3.1s\n",
      "[CV] algorithm=brute, leaf_size=30, n_neighbors=3 ....................\n",
      "[CV]  algorithm=brute, leaf_size=30, n_neighbors=3, score=0.765, total=   3.1s\n",
      "[CV] algorithm=brute, leaf_size=30, n_neighbors=3 ....................\n",
      "[CV]  algorithm=brute, leaf_size=30, n_neighbors=3, score=0.759, total=   3.1s\n",
      "[CV] algorithm=brute, leaf_size=30, n_neighbors=3 ....................\n",
      "[CV]  algorithm=brute, leaf_size=30, n_neighbors=3, score=0.763, total=   3.1s\n",
      "[CV] algorithm=brute, leaf_size=30, n_neighbors=7 ....................\n",
      "[CV]  algorithm=brute, leaf_size=30, n_neighbors=7, score=0.783, total=   4.0s\n",
      "[CV] algorithm=brute, leaf_size=30, n_neighbors=7 ....................\n",
      "[CV]  algorithm=brute, leaf_size=30, n_neighbors=7, score=0.786, total=   3.9s\n",
      "[CV] algorithm=brute, leaf_size=30, n_neighbors=7 ....................\n",
      "[CV]  algorithm=brute, leaf_size=30, n_neighbors=7, score=0.785, total=   4.4s\n",
      "[CV] algorithm=brute, leaf_size=30, n_neighbors=7 ....................\n",
      "[CV]  algorithm=brute, leaf_size=30, n_neighbors=7, score=0.782, total=   4.1s\n",
      "[CV] algorithm=brute, leaf_size=30, n_neighbors=7 ....................\n",
      "[CV]  algorithm=brute, leaf_size=30, n_neighbors=7, score=0.786, total=   4.1s\n",
      "[CV] algorithm=brute, leaf_size=30, n_neighbors=9 ....................\n",
      "[CV]  algorithm=brute, leaf_size=30, n_neighbors=9, score=0.787, total=   3.9s\n",
      "[CV] algorithm=brute, leaf_size=30, n_neighbors=9 ....................\n",
      "[CV]  algorithm=brute, leaf_size=30, n_neighbors=9, score=0.796, total=   3.9s\n",
      "[CV] algorithm=brute, leaf_size=30, n_neighbors=9 ....................\n",
      "[CV]  algorithm=brute, leaf_size=30, n_neighbors=9, score=0.794, total=   4.0s\n",
      "[CV] algorithm=brute, leaf_size=30, n_neighbors=9 ....................\n",
      "[CV]  algorithm=brute, leaf_size=30, n_neighbors=9, score=0.789, total=   3.9s\n",
      "[CV] algorithm=brute, leaf_size=30, n_neighbors=9 ....................\n",
      "[CV]  algorithm=brute, leaf_size=30, n_neighbors=9, score=0.793, total=   4.8s\n",
      "[CV] algorithm=brute, leaf_size=30, n_neighbors=11 ...................\n",
      "[CV]  algorithm=brute, leaf_size=30, n_neighbors=11, score=0.791, total=   4.0s\n",
      "[CV] algorithm=brute, leaf_size=30, n_neighbors=11 ...................\n",
      "[CV]  algorithm=brute, leaf_size=30, n_neighbors=11, score=0.796, total=   4.0s\n",
      "[CV] algorithm=brute, leaf_size=30, n_neighbors=11 ...................\n",
      "[CV]  algorithm=brute, leaf_size=30, n_neighbors=11, score=0.798, total=   4.0s\n",
      "[CV] algorithm=brute, leaf_size=30, n_neighbors=11 ...................\n",
      "[CV]  algorithm=brute, leaf_size=30, n_neighbors=11, score=0.794, total=   3.9s\n",
      "[CV] algorithm=brute, leaf_size=30, n_neighbors=11 ...................\n",
      "[CV]  algorithm=brute, leaf_size=30, n_neighbors=11, score=0.798, total=   4.1s\n"
     ]
    },
    {
     "name": "stderr",
     "output_type": "stream",
     "text": [
      "[Parallel(n_jobs=1)]: Done 240 out of 240 | elapsed:  9.4min finished\n"
     ]
    },
    {
     "data": {
      "text/plain": [
       "GridSearchCV(estimator=KNeighborsClassifier(),\n",
       "             param_grid={'algorithm': ['ball_tree', 'kd_tree', 'brute'],\n",
       "                         'leaf_size': [18, 25, 27, 30],\n",
       "                         'n_neighbors': [3, 7, 9, 11]},\n",
       "             verbose=3)"
      ]
     },
     "execution_count": 137,
     "metadata": {},
     "output_type": "execute_result"
    }
   ],
   "source": [
    "gsv = GridSearchCV(knc,param_grid=param_grid,verbose=3)\n",
    "gsv.fit(x_train,y_train)\n"
   ]
  },
  {
   "cell_type": "code",
   "execution_count": 138,
   "metadata": {},
   "outputs": [
    {
     "data": {
      "text/plain": [
       "{'algorithm': 'kd_tree', 'leaf_size': 18, 'n_neighbors': 11}"
      ]
     },
     "execution_count": 138,
     "metadata": {},
     "output_type": "execute_result"
    }
   ],
   "source": [
    "gsv.best_params_"
   ]
  },
  {
   "cell_type": "code",
   "execution_count": 139,
   "metadata": {},
   "outputs": [
    {
     "data": {
      "text/plain": [
       "KNeighborsClassifier(algorithm='kd_tree', leaf_size=18, n_neighbors=11)"
      ]
     },
     "execution_count": 139,
     "metadata": {},
     "output_type": "execute_result"
    }
   ],
   "source": [
    "\n",
    "knc_tuned = KNeighborsClassifier(algorithm='kd_tree',leaf_size=18,n_neighbors=11)\n",
    "knc_tuned.fit(x_train,y_train)\n"
   ]
  },
  {
   "cell_type": "code",
   "execution_count": 140,
   "metadata": {},
   "outputs": [],
   "source": [
    "KNN = knc_tuned.score(x_test,y_test)"
   ]
  },
  {
   "cell_type": "code",
   "execution_count": 141,
   "metadata": {},
   "outputs": [],
   "source": [
    "knc_y_pred = knc_tuned.predict(x_test)"
   ]
  },
  {
   "cell_type": "code",
   "execution_count": 142,
   "metadata": {},
   "outputs": [
    {
     "name": "stdout",
     "output_type": "stream",
     "text": [
      "Accuracy_Score:0.7909643076503106\n",
      "**************************************************\n",
      "Classification_Report:              precision    recall  f1-score   support\n",
      "\n",
      "           0       0.80      0.96      0.87     11100\n",
      "           1       0.69      0.25      0.37      3553\n",
      "\n",
      "    accuracy                           0.79     14653\n",
      "   macro avg       0.74      0.61      0.62     14653\n",
      "weighted avg       0.77      0.79      0.75     14653\n",
      "\n",
      "**************************************************\n",
      "Confusion_Matrix:[[10695   405]\n",
      " [ 2658   895]]\n"
     ]
    }
   ],
   "source": [
    "print(f\"Accuracy_Score:{accuracy_score(y_test,knc_y_pred)}\")\n",
    "print('*'*50)\n",
    "print(f\"Classification_Report:{classification_report(y_test,knc_y_pred)}\")\n",
    "print('*'*50)\n",
    "print(f\"Confusion_Matrix:{confusion_matrix(y_test,knc_y_pred)}\")"
   ]
  },
  {
   "cell_type": "code",
   "execution_count": 172,
   "metadata": {},
   "outputs": [],
   "source": [
    "from xgboost import XGBClassifier\n",
    "xbc = XGBClassifier()\n"
   ]
  },
  {
   "cell_type": "code",
   "execution_count": 173,
   "metadata": {},
   "outputs": [],
   "source": [
    "param_grid={\n",
    "    ' learning_rate':[1,0.5,0.1,0.01,0.001],\n",
    "    'n_estimators':[10,50,100,200,300] ,\n",
    "'max_depth': [3,5,7,9,11,15],\n",
    "}"
   ]
  },
  {
   "cell_type": "code",
   "execution_count": 174,
   "metadata": {},
   "outputs": [],
   "source": [
    "Gcv = GridSearchCV(xbc,param_grid,scoring='accuracy',cv=5,n_jobs=3,verbose=3)"
   ]
  },
  {
   "cell_type": "code",
   "execution_count": 175,
   "metadata": {},
   "outputs": [
    {
     "name": "stdout",
     "output_type": "stream",
     "text": [
      "Fitting 5 folds for each of 150 candidates, totalling 750 fits\n"
     ]
    },
    {
     "name": "stderr",
     "output_type": "stream",
     "text": [
      "[Parallel(n_jobs=3)]: Using backend LokyBackend with 3 concurrent workers.\n",
      "[Parallel(n_jobs=3)]: Done  26 tasks      | elapsed:   19.5s\n",
      "[Parallel(n_jobs=3)]: Done 122 tasks      | elapsed:  3.4min\n",
      "[Parallel(n_jobs=3)]: Done 282 tasks      | elapsed:  9.3min\n",
      "[Parallel(n_jobs=3)]: Done 506 tasks      | elapsed: 17.3min\n",
      "[Parallel(n_jobs=3)]: Done 750 out of 750 | elapsed: 27.1min finished\n",
      "C:\\Users\\vindh\\anaconda3\\lib\\site-packages\\xgboost\\sklearn.py:888: UserWarning: The use of label encoder in XGBClassifier is deprecated and will be removed in a future release. To remove this warning, do the following: 1) Pass option use_label_encoder=False when constructing XGBClassifier object; and 2) Encode your labels (y) as integers starting with 0, i.e. 0, 1, 2, ..., [num_class - 1].\n",
      "  warnings.warn(label_encoder_deprecation_msg, UserWarning)\n"
     ]
    },
    {
     "name": "stdout",
     "output_type": "stream",
     "text": [
      "[12:30:29] WARNING: C:/Users/Administrator/workspace/xgboost-win64_release_1.3.0/src/learner.cc:541: \n",
      "Parameters: {  learning_rate } might not be used.\n",
      "\n",
      "  This may not be accurate due to some parameters are only used in language bindings but\n",
      "  passed down to XGBoost core.  Or some parameters are not used but slip through this\n",
      "  verification. Please open an issue if you find above cases.\n",
      "\n",
      "\n",
      "[12:30:29] WARNING: C:/Users/Administrator/workspace/xgboost-win64_release_1.3.0/src/learner.cc:1061: Starting in XGBoost 1.3.0, the default evaluation metric used with the objective 'binary:logistic' was changed from 'error' to 'logloss'. Explicitly set eval_metric if you'd like to restore the old behavior.\n"
     ]
    },
    {
     "data": {
      "text/plain": [
       "GridSearchCV(cv=5,\n",
       "             estimator=XGBClassifier(base_score=None, booster=None,\n",
       "                                     colsample_bylevel=None,\n",
       "                                     colsample_bynode=None,\n",
       "                                     colsample_bytree=None, gamma=None,\n",
       "                                     gpu_id=None, importance_type='gain',\n",
       "                                     interaction_constraints=None,\n",
       "                                     learning_rate=None, max_delta_step=None,\n",
       "                                     max_depth=None, min_child_weight=None,\n",
       "                                     missing=nan, monotone_constraints=None,\n",
       "                                     n_estimators=100, n_jobs=None,\n",
       "                                     num_parallel_tree=None, random_state=None,\n",
       "                                     reg_alpha=None, reg_lambda=None,\n",
       "                                     scale_pos_weight=None, subsample=None,\n",
       "                                     tree_method=None, validate_parameters=None,\n",
       "                                     verbosity=None),\n",
       "             n_jobs=3,\n",
       "             param_grid={' learning_rate': [1, 0.5, 0.1, 0.01, 0.001],\n",
       "                         'max_depth': [3, 5, 7, 9, 11, 15],\n",
       "                         'n_estimators': [10, 50, 100, 200, 300]},\n",
       "             scoring='accuracy', verbose=3)"
      ]
     },
     "execution_count": 175,
     "metadata": {},
     "output_type": "execute_result"
    }
   ],
   "source": [
    "Gcv.fit(x_train,y_train)"
   ]
  },
  {
   "cell_type": "code",
   "execution_count": 177,
   "metadata": {},
   "outputs": [
    {
     "data": {
      "text/plain": [
       "{' learning_rate': 1, 'max_depth': 3, 'n_estimators': 200}"
      ]
     },
     "execution_count": 177,
     "metadata": {},
     "output_type": "execute_result"
    }
   ],
   "source": [
    "Gcv.best_params_"
   ]
  },
  {
   "cell_type": "code",
   "execution_count": 178,
   "metadata": {},
   "outputs": [
    {
     "name": "stdout",
     "output_type": "stream",
     "text": [
      "[12:32:28] WARNING: C:/Users/Administrator/workspace/xgboost-win64_release_1.3.0/src/learner.cc:1061: Starting in XGBoost 1.3.0, the default evaluation metric used with the objective 'binary:logistic' was changed from 'error' to 'logloss'. Explicitly set eval_metric if you'd like to restore the old behavior.\n"
     ]
    },
    {
     "data": {
      "text/plain": [
       "XGBClassifier(base_score=0.5, booster='gbtree', colsample_bylevel=1,\n",
       "              colsample_bynode=1, colsample_bytree=1, gamma=0, gpu_id=-1,\n",
       "              importance_type='gain', interaction_constraints='',\n",
       "              learning_rate=1, max_delta_step=0, max_depth=3,\n",
       "              min_child_weight=1, missing=nan, monotone_constraints='()',\n",
       "              n_estimators=200, n_jobs=6, num_parallel_tree=1, random_state=0,\n",
       "              reg_alpha=0, reg_lambda=1, scale_pos_weight=1, subsample=1,\n",
       "              tree_method='exact', validate_parameters=1, verbosity=None)"
      ]
     },
     "execution_count": 178,
     "metadata": {},
     "output_type": "execute_result"
    }
   ],
   "source": [
    "xbc_tuned = XGBClassifier(learning_rate=1,max_depth=3,n_estimators=200)\n",
    "xbc_tuned.fit(x_train,y_train)"
   ]
  },
  {
   "cell_type": "code",
   "execution_count": 179,
   "metadata": {},
   "outputs": [
    {
     "name": "stdout",
     "output_type": "stream",
     "text": [
      "0.8630314611342387\n"
     ]
    }
   ],
   "source": [
    "XBc = xbc_tuned.score(x_test,y_test)\n",
    "print(XBc)"
   ]
  },
  {
   "cell_type": "code",
   "execution_count": 180,
   "metadata": {},
   "outputs": [],
   "source": [
    "xbc_y_pred = xbc_tuned.predict(x_test)"
   ]
  },
  {
   "cell_type": "code",
   "execution_count": 181,
   "metadata": {},
   "outputs": [
    {
     "name": "stdout",
     "output_type": "stream",
     "text": [
      "Accuracy_Score:0.8514297413498942\n",
      "**************************************************\n",
      "Classification_Report:              precision    recall  f1-score   support\n",
      "\n",
      "           0       0.86      0.95      0.91     11100\n",
      "           1       0.79      0.53      0.64      3553\n",
      "\n",
      "    accuracy                           0.85     14653\n",
      "   macro avg       0.82      0.74      0.77     14653\n",
      "weighted avg       0.85      0.85      0.84     14653\n",
      "\n",
      "**************************************************\n",
      "Confusion_Matrix:[[10581   519]\n",
      " [ 1658  1895]]\n"
     ]
    }
   ],
   "source": [
    "\n",
    "print(f\"Accuracy_Score:{accuracy_score(y_test,rfc_y_pred)}\")\n",
    "print('*'*50)\n",
    "print(f\"Classification_Report:{classification_report(y_test,rfc_y_pred)}\")\n",
    "print('*'*50)\n",
    "print(f\"Confusion_Matrix:{confusion_matrix(y_test,rfc_y_pred)}\")"
   ]
  },
  {
   "cell_type": "code",
   "execution_count": 182,
   "metadata": {},
   "outputs": [
    {
     "data": {
      "text/html": [
       "<div>\n",
       "<style scoped>\n",
       "    .dataframe tbody tr th:only-of-type {\n",
       "        vertical-align: middle;\n",
       "    }\n",
       "\n",
       "    .dataframe tbody tr th {\n",
       "        vertical-align: top;\n",
       "    }\n",
       "\n",
       "    .dataframe thead th {\n",
       "        text-align: right;\n",
       "    }\n",
       "</style>\n",
       "<table border=\"1\" class=\"dataframe\">\n",
       "  <thead>\n",
       "    <tr style=\"text-align: right;\">\n",
       "      <th></th>\n",
       "      <th>Models</th>\n",
       "      <th>Model_Scores</th>\n",
       "    </tr>\n",
       "  </thead>\n",
       "  <tbody>\n",
       "    <tr>\n",
       "      <th>0</th>\n",
       "      <td>Logistic_Reg</td>\n",
       "      <td>0.797652</td>\n",
       "    </tr>\n",
       "    <tr>\n",
       "      <th>1</th>\n",
       "      <td>Decision Tree</td>\n",
       "      <td>0.857162</td>\n",
       "    </tr>\n",
       "    <tr>\n",
       "      <th>2</th>\n",
       "      <td>Random Forest</td>\n",
       "      <td>0.851430</td>\n",
       "    </tr>\n",
       "    <tr>\n",
       "      <th>3</th>\n",
       "      <td>KNN</td>\n",
       "      <td>0.790964</td>\n",
       "    </tr>\n",
       "    <tr>\n",
       "      <th>4</th>\n",
       "      <td>XGBoost_Classifier</td>\n",
       "      <td>0.863031</td>\n",
       "    </tr>\n",
       "  </tbody>\n",
       "</table>\n",
       "</div>"
      ],
      "text/plain": [
       "               Models  Model_Scores\n",
       "0        Logistic_Reg      0.797652\n",
       "1       Decision Tree      0.857162\n",
       "2       Random Forest      0.851430\n",
       "3                 KNN      0.790964\n",
       "4  XGBoost_Classifier      0.863031"
      ]
     },
     "execution_count": 182,
     "metadata": {},
     "output_type": "execute_result"
    }
   ],
   "source": [
    "df = {'Models':['Logistic_Reg','Decision Tree','Random Forest','KNN','XGBoost_Classifier'],'Model_Scores':[Log,Dtc,RFC,KNN,XBc]}\n",
    "pd.DataFrame(df)"
   ]
  }
 ],
 "metadata": {
  "kernelspec": {
   "display_name": "Python 3",
   "language": "python",
   "name": "python3"
  },
  "language_info": {
   "codemirror_mode": {
    "name": "ipython",
    "version": 3
   },
   "file_extension": ".py",
   "mimetype": "text/x-python",
   "name": "python",
   "nbconvert_exporter": "python",
   "pygments_lexer": "ipython3",
   "version": "3.8.3"
  }
 },
 "nbformat": 4,
 "nbformat_minor": 4
}
